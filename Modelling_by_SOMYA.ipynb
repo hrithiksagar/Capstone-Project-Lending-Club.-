{
  "nbformat": 4,
  "nbformat_minor": 0,
  "metadata": {
    "colab": {
      "name": "Modelling-by-SOMYA.ipynb",
      "provenance": []
    },
    "kernelspec": {
      "name": "python3",
      "display_name": "Python 3"
    },
    "language_info": {
      "name": "python"
    },
    "accelerator": "GPU"
  },
  "cells": [
    {
      "cell_type": "markdown",
      "metadata": {
        "id": "BZmeLdK-ZNFI"
      },
      "source": [
        "#🏦 Lending Club Loan 💰"
      ]
    },
    {
      "cell_type": "markdown",
      "metadata": {
        "id": "0kVie4rFZR0k"
      },
      "source": [
        "# Introduction\n",
        "Using historical data on loans from Lendig Club - including information on whether or not the borrower defaulted (charge-off) - the main objective of this notebook will be to predict if a potential borrower is likely to pay back the loan.\n",
        "\n",
        "#Our Goal\n",
        "In this capstone project, You will going to work on LendingClub Dataset obtained from Kaggle and the goal is to try find a better prediction model to prevent investing on '\"bad loans\". To do that, First, going to implement some data engineering and preprocessing on LendingClub dataset to prepare data for analysis and modeling. Second, you need to apply explanatory data analysis (EDA) to investigate the features. At the end, you use preprocessed data on LendingClub loans labeled on whether or not the borrower defaulted (charged-off) to develop a model and predict whether or not a borrower will pay back their loan. This way in the future when we get a new potential customer who assigned with higher interest loan, we can assess whether or not they are likely to pay back the loan.\n",
        "\n",
        "\n"
      ]
    },
    {
      "cell_type": "markdown",
      "metadata": {
        "id": "bOx2GKCGZSvx"
      },
      "source": [
        "# Modelling"
      ]
    },
    {
      "cell_type": "markdown",
      "metadata": {
        "id": "4kfwKubVZdFY"
      },
      "source": [
        "**Importing necessary packages**"
      ]
    },
    {
      "cell_type": "code",
      "metadata": {
        "id": "NYLA7pG3ZCsf"
      },
      "source": [
        "import os\n",
        "import pandas as pd\n",
        "import numpy as np\n",
        "import matplotlib.pyplot as plt\n",
        "import seaborn as sns"
      ],
      "execution_count": 23,
      "outputs": []
    },
    {
      "cell_type": "code",
      "metadata": {
        "colab": {
          "base_uri": "https://localhost:8080/"
        },
        "id": "LgIBOXp0Zjr3",
        "outputId": "4771be4d-01eb-470d-9d5c-a0fa08d4e9bc"
      },
      "source": [
        "from sklearn.model_selection import train_test_split\n",
        "from sklearn.preprocessing import MinMaxScaler\n",
        "from sklearn.metrics import classification_report, confusion_matrix\n",
        "import tensorflow as tf\n",
        "from tensorflow.keras.models import Sequential\n",
        "from tensorflow.keras.layers import Dense, Dropout\n",
        "print(\"Imports Successful\")"
      ],
      "execution_count": 24,
      "outputs": [
        {
          "output_type": "stream",
          "text": [
            "Imports Successful\n"
          ],
          "name": "stdout"
        }
      ]
    },
    {
      "cell_type": "code",
      "metadata": {
        "colab": {
          "base_uri": "https://localhost:8080/"
        },
        "id": "Bvh63E2-bA48",
        "outputId": "d99f349c-992b-4164-a5dc-86dec6588f5e"
      },
      "source": [
        "data = pd.read_csv('/content/drive/MyDrive/LendingClub/combinedByYasin.csv')\n",
        "data.shape"
      ],
      "execution_count": 25,
      "outputs": [
        {
          "output_type": "execute_result",
          "data": {
            "text/plain": [
              "(2072806, 6)"
            ]
          },
          "metadata": {
            "tags": []
          },
          "execution_count": 25
        }
      ]
    },
    {
      "cell_type": "code",
      "metadata": {
        "colab": {
          "base_uri": "https://localhost:8080/"
        },
        "id": "tbM9KvGYbzRZ",
        "outputId": "7b976c01-43f1-4b86-ee6a-2dd3f5cd6147"
      },
      "source": [
        "data.columns = data.columns.str.strip().str.lower().str.replace(' ', '_').str.replace('(', '').str.replace(')', '').str.replace('-','_')\n",
        "del data['unnamed:_0']\n",
        "data.columns"
      ],
      "execution_count": 26,
      "outputs": [
        {
          "output_type": "execute_result",
          "data": {
            "text/plain": [
              "Index(['amount_requested', 'risk_score', 'debt_to_income_ratio',\n",
              "       'employment_length', 'target'],\n",
              "      dtype='object')"
            ]
          },
          "metadata": {
            "tags": []
          },
          "execution_count": 26
        }
      ]
    },
    {
      "cell_type": "markdown",
      "metadata": {
        "id": "BTgCrYr9cKO5"
      },
      "source": [
        "**So our traning data and validation data is sucessfully seperated .Lets just quickly check the shape of our data**"
      ]
    },
    {
      "cell_type": "code",
      "metadata": {
        "id": "HCLmwH5LZnJX"
      },
      "source": [
        "df = data.copy()\n",
        "\n",
        "X = df.loc[:, df.columns != 'target'].values\n",
        "y = df.target.values\n",
        "\n",
        "X_train, X_test, y_train, y_test = train_test_split(X, y, test_size=0.2, random_state=42)"
      ],
      "execution_count": 27,
      "outputs": []
    },
    {
      "cell_type": "code",
      "metadata": {
        "colab": {
          "base_uri": "https://localhost:8080/"
        },
        "id": "YXNOAzckbdjj",
        "outputId": "fa068109-1147-473f-cd20-53f1e8b968ae"
      },
      "source": [
        "print(X_train.shape,X_test.shape)"
      ],
      "execution_count": 28,
      "outputs": [
        {
          "output_type": "stream",
          "text": [
            "(1658244, 4) (414562, 4)\n"
          ],
          "name": "stdout"
        }
      ]
    },
    {
      "cell_type": "code",
      "metadata": {
        "id": "K5veqffiZ6SW"
      },
      "source": [
        "from sklearn.metrics import accuracy_score, confusion_matrix, classification_report\n",
        "from sklearn.metrics import roc_auc_score, roc_curve, auc\n",
        "from sklearn.model_selection import train_test_split, GridSearchCV\n",
        "from sklearn.preprocessing import MinMaxScaler\n",
        "\n",
        "def print_score(true, pred, train=True):\n",
        "    if train:\n",
        "        clf_report = pd.DataFrame(classification_report(true, pred, output_dict=True))\n",
        "        print(\"Train Result:\\n================================================\")\n",
        "        print(f\"Accuracy Score: {accuracy_score(true, pred) * 100:.2f}%\")\n",
        "        print(\"_______________________________________________\")\n",
        "        print(f\"CLASSIFICATION REPORT:\\n{clf_report}\")\n",
        "        print(\"_______________________________________________\")\n",
        "        print(f\"Confusion Matrix: \\n {confusion_matrix(true, pred)}\\n\")\n",
        "        \n",
        "    elif train==False:\n",
        "        clf_report = pd.DataFrame(classification_report(true, pred, output_dict=True))\n",
        "        print(\"Test Result:\\n================================================\")        \n",
        "        print(f\"Accuracy Score: {accuracy_score(true, pred) * 100:.2f}%\")\n",
        "        print(\"_______________________________________________\")\n",
        "        print(f\"CLASSIFICATION REPORT:\\n{clf_report}\")\n",
        "        print(\"_______________________________________________\")\n",
        "        print(f\"Confusion Matrix: \\n {confusion_matrix(true, pred)}\\n\")"
      ],
      "execution_count": 29,
      "outputs": []
    },
    {
      "cell_type": "markdown",
      "metadata": {
        "id": "2qCMCXlobT40"
      },
      "source": [
        "# Creating a Neural Network Model\n",
        "\n",
        "**Now we are ready to start our modelling phase. First, let's apply a train-test-split and scale data before training.**"
      ]
    },
    {
      "cell_type": "markdown",
      "metadata": {
        "id": "maXZMCdRcptq"
      },
      "source": [
        "**Building the model**"
      ]
    },
    {
      "cell_type": "code",
      "metadata": {
        "id": "Eurlom9FcfjJ"
      },
      "source": [
        "model1 = Sequential()\n",
        "model1.add(Dense(units=78,activation='relu'))\n",
        "model1.add(Dense(units=39,activation='relu'))\n",
        "model1.add(Dense(units=19,activation='relu'))\n",
        "model1.add(Dense(units=8,activation='relu'))\n",
        "model1.add(Dense(units=4,activation='relu'))\n",
        "model1.add(Dense(units=1,activation='sigmoid'))\n",
        "\n",
        "model1.compile(loss='binary_crossentropy', optimizer='adam', metrics=['accuracy'])"
      ],
      "execution_count": 30,
      "outputs": []
    },
    {
      "cell_type": "markdown",
      "metadata": {
        "id": "myTyd9Rzc6dL"
      },
      "source": [
        "**Our model is now initilised.Lets just begin to train our model and then save it for further use and we can use more epocs for better accuracy**"
      ]
    },
    {
      "cell_type": "code",
      "metadata": {
        "colab": {
          "base_uri": "https://localhost:8080/"
        },
        "id": "iFdT_Xxcc0sb",
        "outputId": "8b832fb0-0e8d-4221-e662-2fe4350fe1a0"
      },
      "source": [
        "# model1.fit(x=X_train, \n",
        "#           y=y_train, \n",
        "#           epochs=40,\n",
        "#           batch_size=32,\n",
        "#           validation_data=(X_test, y_test), verbose=1)\n",
        "\n",
        "model1.fit(x=X_train, \n",
        "          y=y_train, \n",
        "          epochs=15,\n",
        "          batch_size=32,\n",
        "          validation_data=(X_test, y_test), verbose=1)"
      ],
      "execution_count": 31,
      "outputs": [
        {
          "output_type": "stream",
          "text": [
            "Epoch 1/15\n",
            "51821/51821 [==============================] - 140s 3ms/step - loss: 0.7936 - accuracy: 0.6440 - val_loss: 0.4407 - val_accuracy: 0.8409\n",
            "Epoch 2/15\n",
            "51821/51821 [==============================] - 136s 3ms/step - loss: 0.3411 - accuracy: 0.8612 - val_loss: 0.3325 - val_accuracy: 0.8704\n",
            "Epoch 3/15\n",
            "51821/51821 [==============================] - 136s 3ms/step - loss: 0.3290 - accuracy: 0.8677 - val_loss: 0.3126 - val_accuracy: 0.8793\n",
            "Epoch 4/15\n",
            "51821/51821 [==============================] - 135s 3ms/step - loss: 0.3176 - accuracy: 0.8741 - val_loss: 0.3081 - val_accuracy: 0.8772\n",
            "Epoch 5/15\n",
            "51821/51821 [==============================] - 135s 3ms/step - loss: 0.3159 - accuracy: 0.8750 - val_loss: 0.3039 - val_accuracy: 0.8822\n",
            "Epoch 6/15\n",
            "51821/51821 [==============================] - 134s 3ms/step - loss: 0.3150 - accuracy: 0.8755 - val_loss: 0.3002 - val_accuracy: 0.8828\n",
            "Epoch 7/15\n",
            "51821/51821 [==============================] - 134s 3ms/step - loss: 0.3119 - accuracy: 0.8773 - val_loss: 0.3172 - val_accuracy: 0.8729\n",
            "Epoch 8/15\n",
            "51821/51821 [==============================] - 134s 3ms/step - loss: 0.3120 - accuracy: 0.8772 - val_loss: 0.3035 - val_accuracy: 0.8833\n",
            "Epoch 9/15\n",
            "51821/51821 [==============================] - 136s 3ms/step - loss: 0.3108 - accuracy: 0.8779 - val_loss: 0.3035 - val_accuracy: 0.8802\n",
            "Epoch 10/15\n",
            "51821/51821 [==============================] - 135s 3ms/step - loss: 0.3107 - accuracy: 0.8778 - val_loss: 0.3090 - val_accuracy: 0.8783\n",
            "Epoch 11/15\n",
            "51821/51821 [==============================] - 134s 3ms/step - loss: 0.3090 - accuracy: 0.8791 - val_loss: 0.3031 - val_accuracy: 0.8823\n",
            "Epoch 12/15\n",
            "51821/51821 [==============================] - 134s 3ms/step - loss: 0.3100 - accuracy: 0.8784 - val_loss: 0.3056 - val_accuracy: 0.8750\n",
            "Epoch 13/15\n",
            "51821/51821 [==============================] - 134s 3ms/step - loss: 0.3114 - accuracy: 0.8777 - val_loss: 0.3227 - val_accuracy: 0.8747\n",
            "Epoch 14/15\n",
            "51821/51821 [==============================] - 135s 3ms/step - loss: 0.3124 - accuracy: 0.8770 - val_loss: 0.3111 - val_accuracy: 0.8721\n",
            "Epoch 15/15\n",
            "51821/51821 [==============================] - 135s 3ms/step - loss: 0.3088 - accuracy: 0.8792 - val_loss: 0.2996 - val_accuracy: 0.8837\n"
          ],
          "name": "stdout"
        },
        {
          "output_type": "execute_result",
          "data": {
            "text/plain": [
              "<tensorflow.python.keras.callbacks.History at 0x7f424e19a810>"
            ]
          },
          "metadata": {
            "tags": []
          },
          "execution_count": 31
        }
      ]
    },
    {
      "cell_type": "markdown",
      "metadata": {
        "id": "ZMwWH4_verJo"
      },
      "source": [
        "**Above results can be more accurate changing the Learning rate and Batch size and Epoch of the model**"
      ]
    },
    {
      "cell_type": "markdown",
      "metadata": {
        "id": "buAnMGHAfF0w"
      },
      "source": [
        "**Evulating Model1**"
      ]
    },
    {
      "cell_type": "code",
      "metadata": {
        "colab": {
          "base_uri": "https://localhost:8080/",
          "height": 282
        },
        "id": "qIbZwzTnc4Pg",
        "outputId": "193f403c-9f5a-4325-8680-c45fdf4140c9"
      },
      "source": [
        "losses = pd.DataFrame(model1.history.history)\n",
        "losses[['loss','val_loss']].plot()"
      ],
      "execution_count": 32,
      "outputs": [
        {
          "output_type": "execute_result",
          "data": {
            "text/plain": [
              "<matplotlib.axes._subplots.AxesSubplot at 0x7f424870e390>"
            ]
          },
          "metadata": {
            "tags": []
          },
          "execution_count": 32
        },
        {
          "output_type": "display_data",
          "data": {
            "image/png": "[encoded data removed]",
            "text/plain": [
              "<Figure size 432x288 with 1 Axes>"
            ]
          },
          "metadata": {
            "tags": [],
            "needs_background": "light"
          }
        }
      ]
    },
    {
      "cell_type": "code",
      "metadata": {
        "colab": {
          "base_uri": "https://localhost:8080/",
          "height": 282
        },
        "id": "oI4xh7kLfN8-",
        "outputId": "06120be3-a64d-4634-cf1e-173e73ae0f44"
      },
      "source": [
        "losses[['accuracy','val_accuracy']].plot()"
      ],
      "execution_count": 33,
      "outputs": [
        {
          "output_type": "execute_result",
          "data": {
            "text/plain": [
              "<matplotlib.axes._subplots.AxesSubplot at 0x7f42486ea690>"
            ]
          },
          "metadata": {
            "tags": []
          },
          "execution_count": 33
        },
        {
          "output_type": "display_data",
          "data": {
            "image/png": "[encoded data removed]",
            "text/plain": [
              "<Figure size 432x288 with 1 Axes>"
            ]
          },
          "metadata": {
            "tags": [],
            "needs_background": "light"
          }
        }
      ]
    },
    {
      "cell_type": "code",
      "metadata": {
        "colab": {
          "base_uri": "https://localhost:8080/"
        },
        "id": "WJ3NXHwofP8Q",
        "outputId": "b4a0d662-e8e2-4f0d-a256-76c2959d7a69"
      },
      "source": [
        "predictions = (model1.predict(X_test) > 0.5).astype(\"int32\")\n",
        "\n",
        "print(classification_report(y_test, predictions))"
      ],
      "execution_count": 34,
      "outputs": [
        {
          "output_type": "stream",
          "text": [
            "              precision    recall  f1-score   support\n",
            "\n",
            "           0       1.00      0.77      0.87    207499\n",
            "           1       0.81      1.00      0.90    207063\n",
            "\n",
            "    accuracy                           0.88    414562\n",
            "   macro avg       0.90      0.88      0.88    414562\n",
            "weighted avg       0.90      0.88      0.88    414562\n",
            "\n"
          ],
          "name": "stdout"
        }
      ]
    },
    {
      "cell_type": "code",
      "metadata": {
        "colab": {
          "base_uri": "https://localhost:8080/",
          "height": 111
        },
        "id": "Su5xvrW7fTeP",
        "outputId": "1ce92faf-953b-46b3-a3fe-90e078a0ddef"
      },
      "source": [
        "pd.DataFrame(confusion_matrix(y_test, predictions))"
      ],
      "execution_count": 35,
      "outputs": [
        {
          "output_type": "execute_result",
          "data": {
            "text/html": [
              "<div>\n",
              "<style scoped>\n",
              "    .dataframe tbody tr th:only-of-type {\n",
              "        vertical-align: middle;\n",
              "    }\n",
              "\n",
              "    .dataframe tbody tr th {\n",
              "        vertical-align: top;\n",
              "    }\n",
              "\n",
              "    .dataframe thead th {\n",
              "        text-align: right;\n",
              "    }\n",
              "</style>\n",
              "<table border=\"1\" class=\"dataframe\">\n",
              "  <thead>\n",
              "    <tr style=\"text-align: right;\">\n",
              "      <th></th>\n",
              "      <th>0</th>\n",
              "      <th>1</th>\n",
              "    </tr>\n",
              "  </thead>\n",
              "  <tbody>\n",
              "    <tr>\n",
              "      <th>0</th>\n",
              "      <td>159753</td>\n",
              "      <td>47746</td>\n",
              "    </tr>\n",
              "    <tr>\n",
              "      <th>1</th>\n",
              "      <td>483</td>\n",
              "      <td>206580</td>\n",
              "    </tr>\n",
              "  </tbody>\n",
              "</table>\n",
              "</div>"
            ],
            "text/plain": [
              "        0       1\n",
              "0  159753   47746\n",
              "1     483  206580"
            ]
          },
          "metadata": {
            "tags": []
          },
          "execution_count": 35
        }
      ]
    },
    {
      "cell_type": "markdown",
      "metadata": {
        "id": "OFclYmAeYi8f"
      },
      "source": [
        "**Saving Model**"
      ]
    },
    {
      "cell_type": "code",
      "metadata": {
        "id": "wMsp3XttiK_P",
        "colab": {
          "base_uri": "https://localhost:8080/"
        },
        "outputId": "3e060a82-7785-4883-aa42-833f745fa300"
      },
      "source": [
        "!pip install pyyaml h5py "
      ],
      "execution_count": 36,
      "outputs": [
        {
          "output_type": "stream",
          "text": [
            "Requirement already satisfied: pyyaml in /usr/local/lib/python3.7/dist-packages (3.13)\n",
            "Requirement already satisfied: h5py in /usr/local/lib/python3.7/dist-packages (2.10.0)\n",
            "Requirement already satisfied: numpy>=1.7 in /usr/local/lib/python3.7/dist-packages (from h5py) (1.19.5)\n",
            "Requirement already satisfied: six in /usr/local/lib/python3.7/dist-packages (from h5py) (1.15.0)\n"
          ],
          "name": "stdout"
        }
      ]
    },
    {
      "cell_type": "code",
      "metadata": {
        "colab": {
          "base_uri": "https://localhost:8080/"
        },
        "id": "k_a_k-bwZV4d",
        "outputId": "3f45c002-e737-4b50-cd66-9e19e35bef5f"
      },
      "source": [
        "import os\n",
        "\n",
        "import tensorflow as tf\n",
        "from tensorflow import keras\n",
        "\n",
        "print(tf.version.VERSION)"
      ],
      "execution_count": 37,
      "outputs": [
        {
          "output_type": "stream",
          "text": [
            "2.4.1\n"
          ],
          "name": "stdout"
        }
      ]
    },
    {
      "cell_type": "code",
      "metadata": {
        "id": "n33GhfmGZYNz"
      },
      "source": [
        "model1.save('/content/drive/MyDrive/LendingClub/Saved Model/neural_network.h5') "
      ],
      "execution_count": 38,
      "outputs": []
    },
    {
      "cell_type": "code",
      "metadata": {
        "id": "veF0foJepLJW"
      },
      "source": [
        "#Loading Model\n",
        "loaded_model1 = tf.keras.models.load_model('/content/drive/MyDrive/LendingClub/Saved Model/neural_network.h5')"
      ],
      "execution_count": null,
      "outputs": []
    },
    {
      "cell_type": "code",
      "metadata": {
        "id": "7wQ17PlvdQtX"
      },
      "source": [
        "scores_dict = {\n",
        "    'ANNs': {\n",
        "        'Train': roc_auc_score(y_train, model1.predict(X_train)),\n",
        "        'Test': roc_auc_score(y_test, model1.predict(X_test)),\n",
        "    },\n",
        "}"
      ],
      "execution_count": 39,
      "outputs": []
    },
    {
      "cell_type": "markdown",
      "metadata": {
        "id": "LGrAb9_XawFL"
      },
      "source": [
        "**Our Neural Network Model is now trained and saved for future purpose**\n"
      ]
    },
    {
      "cell_type": "markdown",
      "metadata": {
        "id": "MjWVkwsaav34"
      },
      "source": [
        " # XGBoost Classifier"
      ]
    },
    {
      "cell_type": "code",
      "metadata": {
        "colab": {
          "base_uri": "https://localhost:8080/"
        },
        "id": "0MwKL6Idbvjb",
        "outputId": "9fd83dfa-bc10-450a-a1e3-628b163b2e9a"
      },
      "source": [
        "from xgboost import XGBClassifier\n",
        "\n",
        "n_estimators = [50, 100, 200]\n",
        "learning_rate = [0.05, 0.01, 0.5, 0.1, 1]\n",
        "tree_method = ['gpu_hist']\n",
        "\n",
        "params_grid = {\n",
        "    'n_estimators': n_estimators,\n",
        "#     'learning_rate': learning_rate,\n",
        "}\n",
        "\n",
        "xgb_clf = XGBClassifier()\n",
        "xgb_cv = GridSearchCV(xgb_clf, params_grid, cv=3, scoring='roc_auc', n_jobs=-1, verbose=1)\n",
        "# xgb_cv.fit(X_train, y_train)\n",
        "# best_params = xgb_cv.best_params_\n",
        "# best_params['tree_method'] = 'gpu_hist'\n",
        "best_params = {'n_estimators': 50, 'tree_method': 'gpu_hist'}\n",
        "print(f\"Best Parameters: {best_params}\")\n",
        "\n",
        "xgb_clf = XGBClassifier(**best_params)\n",
        "xgb_clf.fit(X_train, y_train)\n",
        "\n",
        "y_train_pred = xgb_clf.predict(X_train)\n",
        "y_test_pred = xgb_clf.predict(X_test)\n",
        "\n",
        "print_score(y_train, y_train_pred, train=True)\n",
        "print_score(y_test, y_test_pred, train=False)"
      ],
      "execution_count": 40,
      "outputs": [
        {
          "output_type": "stream",
          "text": [
            "Best Parameters: {'n_estimators': 50, 'tree_method': 'gpu_hist'}\n",
            "Train Result:\n",
            "================================================\n",
            "Accuracy Score: 88.78%\n",
            "_______________________________________________\n",
            "CLASSIFICATION REPORT:\n",
            "                       0              1  accuracy     macro avg  weighted avg\n",
            "precision       0.999966       0.816805  0.887819  9.083852e-01  9.083611e-01\n",
            "recall          0.775605       0.999973  0.887819  8.877892e-01  8.878187e-01\n",
            "f1-score        0.873610       0.899155  0.887819  8.863828e-01  8.863862e-01\n",
            "support    828904.000000  829340.000000  0.887819  1.658244e+06  1.658244e+06\n",
            "_______________________________________________\n",
            "Confusion Matrix: \n",
            " [[642902 186002]\n",
            " [    22 829318]]\n",
            "\n",
            "Test Result:\n",
            "================================================\n",
            "Accuracy Score: 88.79%\n",
            "_______________________________________________\n",
            "CLASSIFICATION REPORT:\n",
            "                       0              1  accuracy      macro avg   weighted avg\n",
            "precision       0.999994       0.816674  0.887877       0.908334       0.908430\n",
            "recall          0.775994       0.999995  0.887877       0.887995       0.887877\n",
            "f1-score        0.873868       0.899085  0.887877       0.886476       0.886463\n",
            "support    207499.000000  207063.000000  0.887877  414562.000000  414562.000000\n",
            "_______________________________________________\n",
            "Confusion Matrix: \n",
            " [[161018  46481]\n",
            " [     1 207062]]\n",
            "\n"
          ],
          "name": "stdout"
        }
      ]
    },
    {
      "cell_type": "markdown",
      "metadata": {
        "id": "enI9ktv2c8iw"
      },
      "source": [
        "**Lets visulize the info**"
      ]
    },
    {
      "cell_type": "code",
      "metadata": {
        "colab": {
          "base_uri": "https://localhost:8080/",
          "height": 279
        },
        "id": "BM15Tawlcmxj",
        "outputId": "686954e2-54ce-4d6a-bd04-3a62979a3f9f"
      },
      "source": [
        "from sklearn.metrics import plot_confusion_matrix, plot_roc_curve\n",
        "\n",
        "disp = plot_roc_curve(xgb_clf, X_test, y_test)"
      ],
      "execution_count": 41,
      "outputs": [
        {
          "output_type": "display_data",
          "data": {
            "image/png": "[encoded data removed]",
            "text/plain": [
              "<Figure size 432x288 with 1 Axes>"
            ]
          },
          "metadata": {
            "tags": [],
            "needs_background": "light"
          }
        }
      ]
    },
    {
      "cell_type": "code",
      "metadata": {
        "colab": {
          "base_uri": "https://localhost:8080/"
        },
        "id": "SALqA8lrdlMR",
        "outputId": "4caadef4-62a1-4d6c-d70a-0457486b3e52"
      },
      "source": [
        "predictions = (xgb_clf.predict(X_test) > 0.5).astype(\"int32\")\n",
        "\n",
        "print(classification_report(y_test, predictions))"
      ],
      "execution_count": 42,
      "outputs": [
        {
          "output_type": "stream",
          "text": [
            "              precision    recall  f1-score   support\n",
            "\n",
            "           0       1.00      0.78      0.87    207499\n",
            "           1       0.82      1.00      0.90    207063\n",
            "\n",
            "    accuracy                           0.89    414562\n",
            "   macro avg       0.91      0.89      0.89    414562\n",
            "weighted avg       0.91      0.89      0.89    414562\n",
            "\n"
          ],
          "name": "stdout"
        }
      ]
    },
    {
      "cell_type": "markdown",
      "metadata": {
        "id": "H8hY-u4ydaZ4"
      },
      "source": [
        "**Lets just put the data in our dictionary**"
      ]
    },
    {
      "cell_type": "code",
      "metadata": {
        "id": "pIN1tI6odAhi"
      },
      "source": [
        "scores_dict['XGBoost'] = {\n",
        "        'Train': roc_auc_score(y_train, xgb_clf.predict(X_train)),\n",
        "        'Test': roc_auc_score(y_test, xgb_clf.predict(X_test)),\n",
        "    }"
      ],
      "execution_count": 43,
      "outputs": []
    },
    {
      "cell_type": "code",
      "metadata": {
        "id": "TO0HgHcyeRd7"
      },
      "source": [
        "# Saving the model\n",
        "xgb_clf.save_model('/content/drive/MyDrive/LendingClub/Saved Model/XGBoost.model')"
      ],
      "execution_count": 44,
      "outputs": []
    },
    {
      "cell_type": "code",
      "metadata": {
        "id": "RkCrrn7SgZk1"
      },
      "source": [
        "#Loading the model\n",
        "loaded_xgb = xgb.Booster({'nthread': 4})  # init model\n",
        "loaded_xgb.load_model('/content/drive/MyDrive/LendingClub/Saved Model/XGBoost.model')  # load data"
      ],
      "execution_count": 45,
      "outputs": []
    },
    {
      "cell_type": "markdown",
      "metadata": {
        "id": "IKABCuRSevUW"
      },
      "source": [
        "# Random Forest Classifier"
      ]
    },
    {
      "cell_type": "code",
      "metadata": {
        "colab": {
          "base_uri": "https://localhost:8080/"
        },
        "id": "Refxe21WepFC",
        "outputId": "75d3c637-06a4-46f1-f71c-ad63939d0e93"
      },
      "source": [
        "from sklearn.ensemble import RandomForestClassifier\n",
        "\n",
        "rf_clf = RandomForestClassifier(n_estimators=100)\n",
        "rf_clf.fit(X_train, y_train)\n",
        "\n",
        "y_train_pred = rf_clf.predict(X_train)\n",
        "y_test_pred = rf_clf.predict(X_test)\n",
        "\n",
        "print_score(y_train, y_train_pred, train=True)\n",
        "print_score(y_test, y_test_pred, train=False)"
      ],
      "execution_count": 46,
      "outputs": [
        {
          "output_type": "stream",
          "text": [
            "Train Result:\n",
            "================================================\n",
            "Accuracy Score: 99.34%\n",
            "_______________________________________________\n",
            "CLASSIFICATION REPORT:\n",
            "                       0              1  accuracy     macro avg  weighted avg\n",
            "precision       0.997390       0.989382  0.993353  9.933862e-01  9.933851e-01\n",
            "recall          0.989291       0.997412  0.993353  9.933515e-01  9.933526e-01\n",
            "f1-score        0.993324       0.993381  0.993353  9.933525e-01  9.933525e-01\n",
            "support    828904.000000  829340.000000  0.993353  1.658244e+06  1.658244e+06\n",
            "_______________________________________________\n",
            "Confusion Matrix: \n",
            " [[820027   8877]\n",
            " [  2146 827194]]\n",
            "\n",
            "Test Result:\n",
            "================================================\n",
            "Accuracy Score: 85.81%\n",
            "_______________________________________________\n",
            "CLASSIFICATION REPORT:\n",
            "                       0              1  accuracy      macro avg   weighted avg\n",
            "precision       0.902100       0.822723  0.858123       0.862411       0.862453\n",
            "recall          0.803773       0.912587  0.858123       0.858180       0.858123\n",
            "f1-score        0.850102       0.865328  0.858123       0.857715       0.857707\n",
            "support    207499.000000  207063.000000  0.858123  414562.000000  414562.000000\n",
            "_______________________________________________\n",
            "Confusion Matrix: \n",
            " [[166782  40717]\n",
            " [ 18100 188963]]\n",
            "\n"
          ],
          "name": "stdout"
        }
      ]
    },
    {
      "cell_type": "code",
      "metadata": {
        "colab": {
          "base_uri": "https://localhost:8080/",
          "height": 296
        },
        "id": "Qv4QWyvUezeX",
        "outputId": "d44ad978-21bf-4676-9d85-c33d7ba190ae"
      },
      "source": [
        "disp = plot_roc_curve(xgb_clf, X_test, y_test)\n",
        "plot_roc_curve(rf_clf, X_test, y_test, ax=disp.ax_)"
      ],
      "execution_count": 47,
      "outputs": [
        {
          "output_type": "execute_result",
          "data": {
            "text/plain": [
              "<sklearn.metrics._plot.roc_curve.RocCurveDisplay at 0x7f4248612c10>"
            ]
          },
          "metadata": {
            "tags": []
          },
          "execution_count": 47
        },
        {
          "output_type": "display_data",
          "data": {
            "image/png": "[encoded data removed]",
            "text/plain": [
              "<Figure size 432x288 with 1 Axes>"
            ]
          },
          "metadata": {
            "tags": [],
            "needs_background": "light"
          }
        }
      ]
    },
    {
      "cell_type": "code",
      "metadata": {
        "colab": {
          "base_uri": "https://localhost:8080/"
        },
        "id": "r9yBJXYUfEeD",
        "outputId": "8e4fd915-d51c-46f8-a322-d91f1668686f"
      },
      "source": [
        "predictions = (rf_clf.predict(X_test) > 0.5).astype(\"int32\")\n",
        "\n",
        "print(classification_report(y_test, predictions))"
      ],
      "execution_count": 48,
      "outputs": [
        {
          "output_type": "stream",
          "text": [
            "              precision    recall  f1-score   support\n",
            "\n",
            "           0       0.90      0.80      0.85    207499\n",
            "           1       0.82      0.91      0.87    207063\n",
            "\n",
            "    accuracy                           0.86    414562\n",
            "   macro avg       0.86      0.86      0.86    414562\n",
            "weighted avg       0.86      0.86      0.86    414562\n",
            "\n"
          ],
          "name": "stdout"
        }
      ]
    },
    {
      "cell_type": "markdown",
      "metadata": {
        "id": "NAcjMFZde8CV"
      },
      "source": [
        "**Lets put the scores in the dictionary for further reference**"
      ]
    },
    {
      "cell_type": "code",
      "metadata": {
        "id": "_60NmLz1e4jH"
      },
      "source": [
        "scores_dict['Random Forest'] = {\n",
        "        'Train': roc_auc_score(y_train, rf_clf.predict(X_train)),\n",
        "        'Test': roc_auc_score(y_test, rf_clf.predict(X_test)),\n",
        "    }"
      ],
      "execution_count": 49,
      "outputs": []
    },
    {
      "cell_type": "code",
      "metadata": {
        "id": "dqWTaiWxfswR"
      },
      "source": [
        "import pickle\n",
        "pickle.dump(rf_clf, open('/content/drive/MyDrive/LendingClub/Saved Model/RF.sav', 'wb'))"
      ],
      "execution_count": 50,
      "outputs": []
    },
    {
      "cell_type": "code",
      "metadata": {
        "id": "uKWfhA4agDxw"
      },
      "source": [
        "# Loading the model\n",
        "loaded_rf_clf = pickle.load(open('/content/drive/MyDrive/LendingClub/Saved Model/RF.sav', 'rb'))"
      ],
      "execution_count": 51,
      "outputs": []
    },
    {
      "cell_type": "markdown",
      "metadata": {
        "id": "6fTqGhQqfQ5O"
      },
      "source": [
        "# Comparing Models Prerformance"
      ]
    },
    {
      "cell_type": "code",
      "metadata": {
        "colab": {
          "base_uri": "https://localhost:8080/"
        },
        "id": "pF5ziPwLfSXa",
        "outputId": "8d3a3665-6583-424e-af22-79e258c1e691"
      },
      "source": [
        "ml_models = {\n",
        "    'Random Forest': rf_clf, \n",
        "    'XGBoost': xgb_clf, \n",
        "    'ANNs': model1\n",
        "}\n",
        "\n",
        "for model in ml_models:\n",
        "    print(f\"{model.upper():{30}} roc_auc_score: {roc_auc_score(y_test, ml_models[model].predict(X_test)):.3f}\")"
      ],
      "execution_count": 52,
      "outputs": [
        {
          "output_type": "stream",
          "text": [
            "RANDOM FOREST                  roc_auc_score: 0.858\n",
            "XGBOOST                        roc_auc_score: 0.888\n",
            "ANNS                           roc_auc_score: 0.887\n"
          ],
          "name": "stdout"
        }
      ]
    },
    {
      "cell_type": "code",
      "metadata": {
        "colab": {
          "base_uri": "https://localhost:8080/",
          "height": 500
        },
        "id": "L1nD-47lfXB0",
        "outputId": "1b2f1e1d-f301-44f5-baf4-bcc88b20c286"
      },
      "source": [
        "scores_df = pd.DataFrame(scores_dict)\n",
        "scores_df.plot(kind='barh', figsize=(15, 8))"
      ],
      "execution_count": 53,
      "outputs": [
        {
          "output_type": "execute_result",
          "data": {
            "text/plain": [
              "<matplotlib.axes._subplots.AxesSubplot at 0x7f42484e6550>"
            ]
          },
          "metadata": {
            "tags": []
          },
          "execution_count": 53
        },
        {
          "output_type": "display_data",
          "data": {
            "image/png": "[encoded data removed]",
            "text/plain": [
              "<Figure size 1080x576 with 1 Axes>"
            ]
          },
          "metadata": {
            "tags": [],
            "needs_background": "light"
          }
        }
      ]
    }
  ]
}