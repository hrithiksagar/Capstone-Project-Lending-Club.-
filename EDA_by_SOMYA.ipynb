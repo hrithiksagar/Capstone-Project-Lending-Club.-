{
  "nbformat": 4,
  "nbformat_minor": 0,
  "metadata": {
    "colab": {
      "name": "EDA-by-SOMYA.ipynb",
      "provenance": [],
      "collapsed_sections": []
    },
    "kernelspec": {
      "name": "python3",
      "display_name": "Python 3"
    },
    "language_info": {
      "name": "python"
    }
  },
  "cells": [
    {
      "cell_type": "markdown",
      "metadata": {
        "id": "R_j0EA6pqvpK"
      },
      "source": [
        "#🏦 Lending Club Loan 💰"
      ]
    },
    {
      "cell_type": "markdown",
      "metadata": {
        "id": "nRr1TtJdqxrE"
      },
      "source": [
        "# Introduction\n",
        "Using historical data on loans from Lendig Club - including information on whether or not the borrower defaulted (charge-off) - the main objective of this notebook will be to predict if a potential borrower is likely to pay back the loan.\n",
        "\n",
        "#Our Goal\n",
        "In this capstone project, You will going to work on LendingClub Dataset obtained from Kaggle and the goal is to try find a better prediction model to prevent investing on '\"bad loans\". To do that, First, going to implement some data engineering and preprocessing on LendingClub dataset to prepare data for analysis and modeling. Second, you need to apply explanatory data analysis (EDA) to investigate the features. At the end, you use preprocessed data on LendingClub loans labeled on whether or not the borrower defaulted (charged-off) to develop a model and predict whether or not a borrower will pay back their loan. This way in the future when we get a new potential customer who assigned with higher interest loan, we can assess whether or not they are likely to pay back the loan.\n",
        "\n",
        "\n"
      ]
    },
    {
      "cell_type": "markdown",
      "metadata": {
        "id": "Ertt-wg9vN78"
      },
      "source": [
        "**Let's import necessary packages**"
      ]
    },
    {
      "cell_type": "code",
      "metadata": {
        "id": "loWcPaGLily3",
        "colab": {
          "base_uri": "https://localhost:8080/"
        },
        "outputId": "8ea78927-846f-408f-88e9-1519f2de6cf9"
      },
      "source": [
        "import os\n",
        "import pandas as pd\n",
        "import numpy as np\n",
        "import matplotlib.pyplot as plt\n",
        "import seaborn as sns\n",
        "from sklearn.model_selection import train_test_split\n",
        "from sklearn.preprocessing import MinMaxScaler\n",
        "from sklearn.metrics import classification_report, confusion_matrix\n",
        "\n",
        "print(\"Imports Successful\")"
      ],
      "execution_count": null,
      "outputs": [
        {
          "output_type": "stream",
          "text": [
            "Imports Successful\n"
          ],
          "name": "stdout"
        }
      ]
    },
    {
      "cell_type": "code",
      "metadata": {
        "id": "h6HwFodyY0-y"
      },
      "source": [
        "# pd.set_option(\"display.max_columns\", 500)\n",
        "# pd.set_option(\"display.max_rows\", 500)\n",
        "# pd.set_option(\"display.float_format\", lambda x: \"%.3f\" % x)"
      ],
      "execution_count": null,
      "outputs": []
    },
    {
      "cell_type": "markdown",
      "metadata": {
        "id": "8xkxr3eZvWeC"
      },
      "source": [
        "**Defining the nunction which will tell us the percentage of null values**"
      ]
    },
    {
      "cell_type": "code",
      "metadata": {
        "id": "ee30W0nNYZzu"
      },
      "source": [
        "def nullPercentage(data):\n",
        "    print(round((data.isnull().sum() / len(data.index) * 100), 2))"
      ],
      "execution_count": null,
      "outputs": []
    },
    {
      "cell_type": "markdown",
      "metadata": {
        "id": "PLlWr2RCvfVj"
      },
      "source": [
        "**Setting File Path / Loading the data**\n",
        "\n",
        "Importing accepted data"
      ]
    },
    {
      "cell_type": "code",
      "metadata": {
        "id": "iBX3e2jnZKJQ"
      },
      "source": [
        "# df_accepted = pd.read_csv(\"/content/drive/MyDrive/LendingClub/data/accepted_2007_to_2018Q4.csv\")\n",
        "# print(df_accepted.shape)\n",
        "\n",
        "# df_rejected = pd.read_csv(\"/content/drive/MyDrive/LendingClub/data/rejected_2007_to_2018Q4.csv\")\n",
        "# print(df_rejected.shape)"
      ],
      "execution_count": null,
      "outputs": []
    },
    {
      "cell_type": "code",
      "metadata": {
        "id": "7DXFq3F8wKEb"
      },
      "source": [
        "# print(df_accepted.shape)\n",
        "# df_accepted.describe()"
      ],
      "execution_count": null,
      "outputs": []
    },
    {
      "cell_type": "code",
      "metadata": {
        "id": "eCzuFvotp-HF"
      },
      "source": [
        "# df_accepted.head()"
      ],
      "execution_count": null,
      "outputs": []
    },
    {
      "cell_type": "code",
      "metadata": {
        "id": "HwR9P6qLqDvL"
      },
      "source": [
        "# df_accepted = df_accepted[df_accepted.loan_status.isin(['Fully Paid', 'Charged Off'])]\n",
        "# # df_accepted.loan_status.unique()"
      ],
      "execution_count": null,
      "outputs": []
    },
    {
      "cell_type": "code",
      "metadata": {
        "id": "3Ac9U7TGuBb9"
      },
      "source": [
        "# nullPercentage(df_accepted)"
      ],
      "execution_count": null,
      "outputs": []
    },
    {
      "cell_type": "markdown",
      "metadata": {
        "id": "qK_Keaid2U4Y"
      },
      "source": [
        "**Now lets just import the combined dataset**"
      ]
    },
    {
      "cell_type": "code",
      "metadata": {
        "id": "sCOmBqoXueuc"
      },
      "source": [
        "data = pd.read_csv('/content/drive/MyDrive/LendingClub/combinedByYasin.csv')"
      ],
      "execution_count": null,
      "outputs": []
    },
    {
      "cell_type": "code",
      "metadata": {
        "colab": {
          "base_uri": "https://localhost:8080/",
          "height": 204
        },
        "id": "zAW6wgxyvF_E",
        "outputId": "47620d54-419a-43bf-a226-f31cafa63af3"
      },
      "source": [
        "data.head()"
      ],
      "execution_count": null,
      "outputs": [
        {
          "output_type": "execute_result",
          "data": {
            "text/html": [
              "<div>\n",
              "<style scoped>\n",
              "    .dataframe tbody tr th:only-of-type {\n",
              "        vertical-align: middle;\n",
              "    }\n",
              "\n",
              "    .dataframe tbody tr th {\n",
              "        vertical-align: top;\n",
              "    }\n",
              "\n",
              "    .dataframe thead th {\n",
              "        text-align: right;\n",
              "    }\n",
              "</style>\n",
              "<table border=\"1\" class=\"dataframe\">\n",
              "  <thead>\n",
              "    <tr style=\"text-align: right;\">\n",
              "      <th></th>\n",
              "      <th>Unnamed: 0</th>\n",
              "      <th>Amount Requested</th>\n",
              "      <th>Risk_Score</th>\n",
              "      <th>Debt-To-Income Ratio</th>\n",
              "      <th>Employment Length</th>\n",
              "      <th>Target</th>\n",
              "    </tr>\n",
              "  </thead>\n",
              "  <tbody>\n",
              "    <tr>\n",
              "      <th>0</th>\n",
              "      <td>0</td>\n",
              "      <td>3600.0</td>\n",
              "      <td>677.0</td>\n",
              "      <td>5.91</td>\n",
              "      <td>10</td>\n",
              "      <td>1</td>\n",
              "    </tr>\n",
              "    <tr>\n",
              "      <th>1</th>\n",
              "      <td>1</td>\n",
              "      <td>24700.0</td>\n",
              "      <td>717.0</td>\n",
              "      <td>16.06</td>\n",
              "      <td>10</td>\n",
              "      <td>1</td>\n",
              "    </tr>\n",
              "    <tr>\n",
              "      <th>2</th>\n",
              "      <td>2</td>\n",
              "      <td>20000.0</td>\n",
              "      <td>697.0</td>\n",
              "      <td>10.78</td>\n",
              "      <td>10</td>\n",
              "      <td>1</td>\n",
              "    </tr>\n",
              "    <tr>\n",
              "      <th>3</th>\n",
              "      <td>3</td>\n",
              "      <td>10400.0</td>\n",
              "      <td>697.0</td>\n",
              "      <td>25.37</td>\n",
              "      <td>3</td>\n",
              "      <td>1</td>\n",
              "    </tr>\n",
              "    <tr>\n",
              "      <th>4</th>\n",
              "      <td>4</td>\n",
              "      <td>11950.0</td>\n",
              "      <td>692.0</td>\n",
              "      <td>10.20</td>\n",
              "      <td>4</td>\n",
              "      <td>1</td>\n",
              "    </tr>\n",
              "  </tbody>\n",
              "</table>\n",
              "</div>"
            ],
            "text/plain": [
              "   Unnamed: 0  Amount Requested  ...  Employment Length  Target\n",
              "0           0            3600.0  ...                 10       1\n",
              "1           1           24700.0  ...                 10       1\n",
              "2           2           20000.0  ...                 10       1\n",
              "3           3           10400.0  ...                  3       1\n",
              "4           4           11950.0  ...                  4       1\n",
              "\n",
              "[5 rows x 6 columns]"
            ]
          },
          "metadata": {
            "tags": []
          },
          "execution_count": 49
        }
      ]
    },
    {
      "cell_type": "code",
      "metadata": {
        "colab": {
          "base_uri": "https://localhost:8080/"
        },
        "id": "2V2sHFQRw8fK",
        "outputId": "2565f650-9e28-481e-9c76-3edcff0caf7d"
      },
      "source": [
        "data.Target.unique()"
      ],
      "execution_count": null,
      "outputs": [
        {
          "output_type": "execute_result",
          "data": {
            "text/plain": [
              "array([1, 0])"
            ]
          },
          "metadata": {
            "tags": []
          },
          "execution_count": 50
        }
      ]
    },
    {
      "cell_type": "markdown",
      "metadata": {
        "id": "lU4VQW6bxty6"
      },
      "source": [
        "**Lets visully have a look at the data of fully paid and charged off values count**"
      ]
    },
    {
      "cell_type": "code",
      "metadata": {
        "id": "QrRhyJWTvLSi"
      },
      "source": [
        "# sns.countplot(x=\"loan_status\", data=df_accepted)"
      ],
      "execution_count": null,
      "outputs": []
    },
    {
      "cell_type": "code",
      "metadata": {
        "colab": {
          "base_uri": "https://localhost:8080/",
          "height": 307
        },
        "id": "idEfjNiVxv5A",
        "outputId": "6ddd4b0d-3952-47cc-ea2e-7e39f5976dfa"
      },
      "source": [
        "sns.countplot(x='Target',data=data)"
      ],
      "execution_count": null,
      "outputs": [
        {
          "output_type": "execute_result",
          "data": {
            "text/plain": [
              "<matplotlib.axes._subplots.AxesSubplot at 0x7f7890c5fa50>"
            ]
          },
          "metadata": {
            "tags": []
          },
          "execution_count": 52
        },
        {
          "output_type": "display_data",
          "data": {
            "image/png": "[encoded data removed]",
            "text/plain": [
              "<Figure size 432x288 with 1 Axes>"
            ]
          },
          "metadata": {
            "tags": [],
            "needs_background": "light"
          }
        }
      ]
    },
    {
      "cell_type": "markdown",
      "metadata": {
        "id": "bj6WuntlxEZG"
      },
      "source": [
        "#### Doing this i drawed my conclusion that i will move further with combined data and will consider Target to be predicted"
      ]
    },
    {
      "cell_type": "markdown",
      "metadata": {
        "id": "Cs1nRHc5_Cz6"
      },
      "source": [
        "**checking now null values per columns:**"
      ]
    },
    {
      "cell_type": "code",
      "metadata": {
        "id": "HHnwvqOf_E2s",
        "colab": {
          "base_uri": "https://localhost:8080/"
        },
        "outputId": "f7b981ac-e32b-48de-f582-d36c9681bca0"
      },
      "source": [
        "data.isnull().sum().sort_values(ascending=False)"
      ],
      "execution_count": null,
      "outputs": [
        {
          "output_type": "execute_result",
          "data": {
            "text/plain": [
              "Target                  0\n",
              "Employment Length       0\n",
              "Debt-To-Income Ratio    0\n",
              "Risk_Score              0\n",
              "Amount Requested        0\n",
              "Unnamed: 0              0\n",
              "dtype: int64"
            ]
          },
          "metadata": {
            "tags": []
          },
          "execution_count": 53
        }
      ]
    },
    {
      "cell_type": "markdown",
      "metadata": {
        "id": "56vsA7qG1il9"
      },
      "source": [
        "**Since the data is already cleaned we do not need to perform any cleaning steps so lets quickly perform Relationship analysis**"
      ]
    },
    {
      "cell_type": "code",
      "metadata": {
        "colab": {
          "base_uri": "https://localhost:8080/"
        },
        "id": "ur_P8-692HEh",
        "outputId": "d983ae08-82ed-4943-bd78-9c7455448571"
      },
      "source": [
        "data.columns"
      ],
      "execution_count": null,
      "outputs": [
        {
          "output_type": "execute_result",
          "data": {
            "text/plain": [
              "Index(['Unnamed: 0', 'Amount Requested', 'Risk_Score', 'Debt-To-Income Ratio',\n",
              "       'Employment Length', 'Target'],\n",
              "      dtype='object')"
            ]
          },
          "metadata": {
            "tags": []
          },
          "execution_count": 54
        }
      ]
    },
    {
      "cell_type": "markdown",
      "metadata": {
        "id": "NcUxqnJR3_6a"
      },
      "source": [
        "**First lets just remove the spaces from our column name. !Not a necessary step but i just prefer it**"
      ]
    },
    {
      "cell_type": "code",
      "metadata": {
        "colab": {
          "base_uri": "https://localhost:8080/"
        },
        "id": "mFEdvJ1P38Lp",
        "outputId": "25d9a91a-786c-4c68-e669-66d929fedac7"
      },
      "source": [
        "data.columns = data.columns.str.strip().str.lower().str.replace(' ', '_').str.replace('(', '').str.replace(')', '').str.replace('-','_')\n",
        "data.columns"
      ],
      "execution_count": null,
      "outputs": [
        {
          "output_type": "execute_result",
          "data": {
            "text/plain": [
              "Index(['unnamed:_0', 'amount_requested', 'risk_score', 'debt_to_income_ratio',\n",
              "       'employment_length', 'target'],\n",
              "      dtype='object')"
            ]
          },
          "metadata": {
            "tags": []
          },
          "execution_count": 55
        }
      ]
    },
    {
      "cell_type": "code",
      "metadata": {
        "id": "NjP_zauH8FBo"
      },
      "source": [
        "#Lets just drop unnamed:_0\n",
        "del data['unnamed:_0']"
      ],
      "execution_count": null,
      "outputs": []
    },
    {
      "cell_type": "code",
      "metadata": {
        "colab": {
          "base_uri": "https://localhost:8080/"
        },
        "id": "9F5cBGrs8an_",
        "outputId": "57210a5f-7b15-4308-ade7-0c850a0457a2"
      },
      "source": [
        "data.columns"
      ],
      "execution_count": null,
      "outputs": [
        {
          "output_type": "execute_result",
          "data": {
            "text/plain": [
              "Index(['amount_requested', 'risk_score', 'debt_to_income_ratio',\n",
              "       'employment_length', 'target'],\n",
              "      dtype='object')"
            ]
          },
          "metadata": {
            "tags": []
          },
          "execution_count": 57
        }
      ]
    },
    {
      "cell_type": "markdown",
      "metadata": {
        "id": "w2P-FaJHGt6N"
      },
      "source": [
        "## Lets check feature by feature for the distributions"
      ]
    },
    {
      "cell_type": "markdown",
      "metadata": {
        "id": "Jeb1j-frGIcM"
      },
      "source": [
        "**For getting started lets take risk_sore feature into consideration**"
      ]
    },
    {
      "cell_type": "code",
      "metadata": {
        "colab": {
          "base_uri": "https://localhost:8080/",
          "height": 460
        },
        "id": "DDqGx0yEFDDT",
        "outputId": "625b0039-1723-479e-cca7-bd460e485061"
      },
      "source": [
        "#Histogram of distribution\n",
        "plt.figure(figsize=(16,6))\n",
        "sns.distplot(a=data['risk_score'], kde=False)"
      ],
      "execution_count": null,
      "outputs": [
        {
          "output_type": "stream",
          "text": [
            "/usr/local/lib/python3.7/dist-packages/seaborn/distributions.py:2557: FutureWarning: `distplot` is a deprecated function and will be removed in a future version. Please adapt your code to use either `displot` (a figure-level function with similar flexibility) or `histplot` (an axes-level function for histograms).\n",
            "  warnings.warn(msg, FutureWarning)\n"
          ],
          "name": "stderr"
        },
        {
          "output_type": "execute_result",
          "data": {
            "text/plain": [
              "<matplotlib.axes._subplots.AxesSubplot at 0x7f788e1b0ed0>"
            ]
          },
          "metadata": {
            "tags": []
          },
          "execution_count": 58
        },
        {
          "output_type": "display_data",
          "data": {
            "image/png": "[encoded data removed]",
            "text/plain": [
              "<Figure size 1152x432 with 1 Axes>"
            ]
          },
          "metadata": {
            "tags": [],
            "needs_background": "light"
          }
        }
      ]
    },
    {
      "cell_type": "code",
      "metadata": {
        "colab": {
          "base_uri": "https://localhost:8080/",
          "height": 406
        },
        "id": "I9Db2cLnF8RZ",
        "outputId": "da56ff5d-b2ca-428f-8e8f-18d68e3d11f5"
      },
      "source": [
        "# KDE plot \n",
        "plt.figure(figsize=(16,6))\n",
        "sns.kdeplot(data=data['risk_score'], shade=True)"
      ],
      "execution_count": null,
      "outputs": [
        {
          "output_type": "execute_result",
          "data": {
            "text/plain": [
              "<matplotlib.axes._subplots.AxesSubplot at 0x7f788cd6abd0>"
            ]
          },
          "metadata": {
            "tags": []
          },
          "execution_count": 59
        },
        {
          "output_type": "display_data",
          "data": {
            "image/png": "[encoded data removed]",
            "text/plain": [
              "<Figure size 1152x432 with 1 Axes>"
            ]
          },
          "metadata": {
            "tags": [],
            "needs_background": "light"
          }
        }
      ]
    },
    {
      "cell_type": "markdown",
      "metadata": {
        "id": "YuU4P1LrGmJJ"
      },
      "source": [
        "**Employement Length**"
      ]
    },
    {
      "cell_type": "code",
      "metadata": {
        "colab": {
          "base_uri": "https://localhost:8080/",
          "height": 460
        },
        "id": "Djt2t2BoGYd9",
        "outputId": "0d5b3adf-3604-4775-8c9a-597ba9b3aadb"
      },
      "source": [
        "#Histogram of distribution\n",
        "plt.figure(figsize=(16,6))\n",
        "sns.distplot(a=data['employment_length'], kde=False)"
      ],
      "execution_count": null,
      "outputs": [
        {
          "output_type": "stream",
          "text": [
            "/usr/local/lib/python3.7/dist-packages/seaborn/distributions.py:2557: FutureWarning: `distplot` is a deprecated function and will be removed in a future version. Please adapt your code to use either `displot` (a figure-level function with similar flexibility) or `histplot` (an axes-level function for histograms).\n",
            "  warnings.warn(msg, FutureWarning)\n"
          ],
          "name": "stderr"
        },
        {
          "output_type": "execute_result",
          "data": {
            "text/plain": [
              "<matplotlib.axes._subplots.AxesSubplot at 0x7f788cd6a050>"
            ]
          },
          "metadata": {
            "tags": []
          },
          "execution_count": 60
        },
        {
          "output_type": "display_data",
          "data": {
            "image/png": "[encoded data removed]",
            "text/plain": [
              "<Figure size 1152x432 with 1 Axes>"
            ]
          },
          "metadata": {
            "tags": [],
            "needs_background": "light"
          }
        }
      ]
    },
    {
      "cell_type": "code",
      "metadata": {
        "colab": {
          "base_uri": "https://localhost:8080/",
          "height": 406
        },
        "id": "AA6dlhXVHIpo",
        "outputId": "efce9a14-c363-4b54-90d4-5846b8adb7eb"
      },
      "source": [
        "# KDE plot \n",
        "plt.figure(figsize=(16,6))\n",
        "sns.kdeplot(data=data['employment_length'], shade=True)"
      ],
      "execution_count": null,
      "outputs": [
        {
          "output_type": "execute_result",
          "data": {
            "text/plain": [
              "<matplotlib.axes._subplots.AxesSubplot at 0x7f788cec05d0>"
            ]
          },
          "metadata": {
            "tags": []
          },
          "execution_count": 61
        },
        {
          "output_type": "display_data",
          "data": {
            "image/png": "[encoded data removed]",
            "text/plain": [
              "<Figure size 1152x432 with 1 Axes>"
            ]
          },
          "metadata": {
            "tags": [],
            "needs_background": "light"
          }
        }
      ]
    },
    {
      "cell_type": "markdown",
      "metadata": {
        "id": "guZcWAKZG3Ro"
      },
      "source": [
        "**Amount Requested**"
      ]
    },
    {
      "cell_type": "code",
      "metadata": {
        "colab": {
          "base_uri": "https://localhost:8080/",
          "height": 471
        },
        "id": "X8AbPlx9G7WL",
        "outputId": "2f2fc8b7-8e5c-4fdd-be38-1379bc780697"
      },
      "source": [
        "#Histogram of distribution\n",
        "plt.figure(figsize=(16,6))\n",
        "sns.distplot(a=data['amount_requested'], kde=False)"
      ],
      "execution_count": null,
      "outputs": [
        {
          "output_type": "stream",
          "text": [
            "/usr/local/lib/python3.7/dist-packages/seaborn/distributions.py:2557: FutureWarning: `distplot` is a deprecated function and will be removed in a future version. Please adapt your code to use either `displot` (a figure-level function with similar flexibility) or `histplot` (an axes-level function for histograms).\n",
            "  warnings.warn(msg, FutureWarning)\n"
          ],
          "name": "stderr"
        },
        {
          "output_type": "execute_result",
          "data": {
            "text/plain": [
              "<matplotlib.axes._subplots.AxesSubplot at 0x7f788cec03d0>"
            ]
          },
          "metadata": {
            "tags": []
          },
          "execution_count": 62
        },
        {
          "output_type": "display_data",
          "data": {
            "image/png": "[encoded data removed]",
            "text/plain": [
              "<Figure size 1152x432 with 1 Axes>"
            ]
          },
          "metadata": {
            "tags": [],
            "needs_background": "light"
          }
        }
      ]
    },
    {
      "cell_type": "code",
      "metadata": {
        "colab": {
          "base_uri": "https://localhost:8080/"
        },
        "id": "EBzQv0s_HT28",
        "outputId": "93ffe077-b30a-4386-e522-8a6eb0797997"
      },
      "source": [
        "data.amount_requested.max"
      ],
      "execution_count": null,
      "outputs": [
        {
          "output_type": "execute_result",
          "data": {
            "text/plain": [
              "<bound method Series.max of 0           3600.0\n",
              "1          24700.0\n",
              "2          20000.0\n",
              "3          10400.0\n",
              "4          11950.0\n",
              "            ...   \n",
              "2072801    20000.0\n",
              "2072802    20000.0\n",
              "2072803     6000.0\n",
              "2072804     3000.0\n",
              "2072805    15000.0\n",
              "Name: amount_requested, Length: 2072806, dtype: float64>"
            ]
          },
          "metadata": {
            "tags": []
          },
          "execution_count": 63
        }
      ]
    },
    {
      "cell_type": "code",
      "metadata": {
        "colab": {
          "base_uri": "https://localhost:8080/",
          "height": 417
        },
        "id": "wyd56SQqHamS",
        "outputId": "e9055d30-6daa-41f9-b14e-f85927cca09f"
      },
      "source": [
        "# KDE plot\n",
        "plt.figure(figsize=(16,6))\n",
        "sns.kdeplot(data=data['amount_requested'], shade=True)"
      ],
      "execution_count": null,
      "outputs": [
        {
          "output_type": "execute_result",
          "data": {
            "text/plain": [
              "<matplotlib.axes._subplots.AxesSubplot at 0x7f788ccfe650>"
            ]
          },
          "metadata": {
            "tags": []
          },
          "execution_count": 64
        },
        {
          "output_type": "display_data",
          "data": {
            "image/png": "[encoded data removed]",
            "text/plain": [
              "<Figure size 1152x432 with 1 Axes>"
            ]
          },
          "metadata": {
            "tags": [],
            "needs_background": "light"
          }
        }
      ]
    },
    {
      "cell_type": "markdown",
      "metadata": {
        "id": "he6zVv4OG75Z"
      },
      "source": [
        "**Debet to income ratio**"
      ]
    },
    {
      "cell_type": "code",
      "metadata": {
        "colab": {
          "base_uri": "https://localhost:8080/",
          "height": 471
        },
        "id": "MBsuxYQTHAKv",
        "outputId": "e268a9ae-c774-4e40-9f09-a96bf4c48c45"
      },
      "source": [
        "#Histogram of distribution\n",
        "plt.figure(figsize=(16,6))\n",
        "sns.distplot(a=data['debt_to_income_ratio'], kde=False)"
      ],
      "execution_count": null,
      "outputs": [
        {
          "output_type": "stream",
          "text": [
            "/usr/local/lib/python3.7/dist-packages/seaborn/distributions.py:2557: FutureWarning: `distplot` is a deprecated function and will be removed in a future version. Please adapt your code to use either `displot` (a figure-level function with similar flexibility) or `histplot` (an axes-level function for histograms).\n",
            "  warnings.warn(msg, FutureWarning)\n"
          ],
          "name": "stderr"
        },
        {
          "output_type": "execute_result",
          "data": {
            "text/plain": [
              "<matplotlib.axes._subplots.AxesSubplot at 0x7f788cdb7ad0>"
            ]
          },
          "metadata": {
            "tags": []
          },
          "execution_count": 65
        },
        {
          "output_type": "display_data",
          "data": {
            "image/png": "[encoded data removed]",
            "text/plain": [
              "<Figure size 1152x432 with 1 Axes>"
            ]
          },
          "metadata": {
            "tags": [],
            "needs_background": "light"
          }
        }
      ]
    },
    {
      "cell_type": "code",
      "metadata": {
        "colab": {
          "base_uri": "https://localhost:8080/",
          "height": 417
        },
        "id": "to803_J-H54v",
        "outputId": "64eb0e8b-eff5-42e8-ed7b-0620c6bfeb83"
      },
      "source": [
        "# KDE plot \n",
        "plt.figure(figsize=(16,6))\n",
        "sns.kdeplot(data=data['debt_to_income_ratio'], shade=True)"
      ],
      "execution_count": null,
      "outputs": [
        {
          "output_type": "execute_result",
          "data": {
            "text/plain": [
              "<matplotlib.axes._subplots.AxesSubplot at 0x7f7888d88190>"
            ]
          },
          "metadata": {
            "tags": []
          },
          "execution_count": 66
        },
        {
          "output_type": "display_data",
          "data": {
            "image/png": "[encoded data removed]",
            "text/plain": [
              "<Figure size 1152x432 with 1 Axes>"
            ]
          },
          "metadata": {
            "tags": [],
            "needs_background": "light"
          }
        }
      ]
    },
    {
      "cell_type": "markdown",
      "metadata": {
        "id": "YXFsZCpTLLhU"
      },
      "source": [
        "**Let's now see the correlation between continuous variables:**"
      ]
    },
    {
      "cell_type": "markdown",
      "metadata": {
        "id": "O8VJMiBCK1xP"
      },
      "source": [
        "**There is no column with visible different behaviour**"
      ]
    },
    {
      "cell_type": "code",
      "metadata": {
        "colab": {
          "base_uri": "https://localhost:8080/",
          "height": 597
        },
        "id": "GQ5nd6kH3N5y",
        "outputId": "eb18f60b-8f85-4ac6-d0d7-6d0b8d562937"
      },
      "source": [
        "plt.figure(figsize=(10,8))\n",
        "mask = np.zeros_like(data.corr())\n",
        "mask[np.triu_indices_from(mask)] = True\n",
        "sns.heatmap(data.corr(), cmap='viridis', mask=mask, annot=False, square=True)"
      ],
      "execution_count": null,
      "outputs": [
        {
          "output_type": "execute_result",
          "data": {
            "text/plain": [
              "<matplotlib.axes._subplots.AxesSubplot at 0x7f7888d88790>"
            ]
          },
          "metadata": {
            "tags": []
          },
          "execution_count": 67
        },
        {
          "output_type": "display_data",
          "data": {
            "image/png": "[encoded data removed]",
            "text/plain": [
              "<Figure size 720x576 with 2 Axes>"
            ]
          },
          "metadata": {
            "tags": [],
            "needs_background": "light"
          }
        }
      ]
    },
    {
      "cell_type": "markdown",
      "metadata": {
        "id": "RxXtlsbELC3b"
      },
      "source": [
        "**There are some yellowish squares. This indicates almost perfect correlation between many variables. Let's dig deeper:**"
      ]
    },
    {
      "cell_type": "code",
      "metadata": {
        "colab": {
          "base_uri": "https://localhost:8080/",
          "height": 542
        },
        "id": "V7qV7UIvBBML",
        "outputId": "42ed4440-ed02-48ab-83d7-90da52ae3a5d"
      },
      "source": [
        "# checking correlation of features to the new loan_paid column\n",
        "\n",
        "\n",
        "plt.figure(figsize=(15,7))\n",
        "new_corr = data.corr().iloc[:-1,-1].sort_values()\n",
        "new_corr.plot.bar(rot=90)"
      ],
      "execution_count": null,
      "outputs": [
        {
          "output_type": "execute_result",
          "data": {
            "text/plain": [
              "<matplotlib.axes._subplots.AxesSubplot at 0x7f788cc41c90>"
            ]
          },
          "metadata": {
            "tags": []
          },
          "execution_count": 68
        },
        {
          "output_type": "display_data",
          "data": {
            "image/png": "[encoded data removed]",
            "text/plain": [
              "<Figure size 1080x504 with 1 Axes>"
            ]
          },
          "metadata": {
            "tags": [],
            "needs_background": "light"
          }
        }
      ]
    },
    {
      "cell_type": "code",
      "metadata": {
        "colab": {
          "base_uri": "https://localhost:8080/"
        },
        "id": "ZX_v3aVgLN8A",
        "outputId": "f8f9cc20-e2c4-4779-c9d7-e6703e74de63"
      },
      "source": [
        "features = list(data.columns)\n",
        "print(*features,sep='\\n')"
      ],
      "execution_count": null,
      "outputs": [
        {
          "output_type": "stream",
          "text": [
            "amount_requested\n",
            "risk_score\n",
            "debt_to_income_ratio\n",
            "employment_length\n",
            "target\n"
          ],
          "name": "stdout"
        }
      ]
    },
    {
      "cell_type": "markdown",
      "metadata": {
        "id": "CTBf3uJFbZ7Q"
      },
      "source": [
        "**Checking features against our target variable**"
      ]
    },
    {
      "cell_type": "markdown",
      "metadata": {
        "id": "_r-m3PnnltC8"
      },
      "source": [
        "**amount_requested**"
      ]
    },
    {
      "cell_type": "code",
      "metadata": {
        "colab": {
          "base_uri": "https://localhost:8080/"
        },
        "id": "NM6QeQ9UMFdq",
        "outputId": "f41bdb48-b02c-48cc-bde2-7a2b5dac3afd"
      },
      "source": [
        "C = np.corrcoef(data.amount_requested,data.target)\n",
        "print(C)"
      ],
      "execution_count": null,
      "outputs": [
        {
          "output_type": "stream",
          "text": [
            "[[1.         0.09056719]\n",
            " [0.09056719 1.        ]]\n"
          ],
          "name": "stdout"
        }
      ]
    },
    {
      "cell_type": "code",
      "metadata": {
        "id": "ULgXKHyWb0aZ",
        "colab": {
          "base_uri": "https://localhost:8080/",
          "height": 297
        },
        "outputId": "7b7d2bb5-ce43-41b1-b2bb-96dab49e9ae9"
      },
      "source": [
        "# checking count per grade and target\n",
        "sns.countplot(x=data.amount_requested, hue=data.target)"
      ],
      "execution_count": null,
      "outputs": [
        {
          "output_type": "execute_result",
          "data": {
            "text/plain": [
              "<matplotlib.axes._subplots.AxesSubplot at 0x7f788c3e5f10>"
            ]
          },
          "metadata": {
            "tags": []
          },
          "execution_count": 71
        },
        {
          "output_type": "display_data",
          "data": {
            "image/png": "[encoded data removed]",
            "text/plain": [
              "<Figure size 432x288 with 1 Axes>"
            ]
          },
          "metadata": {
            "tags": [],
            "needs_background": "light"
          }
        }
      ]
    },
    {
      "cell_type": "markdown",
      "metadata": {
        "id": "P-RxW-vtlwzo"
      },
      "source": [
        "**risk_score**"
      ]
    },
    {
      "cell_type": "code",
      "metadata": {
        "colab": {
          "base_uri": "https://localhost:8080/"
        },
        "id": "mxd146dPk6Va",
        "outputId": "579a319c-53d9-4907-899e-242533d85ce7"
      },
      "source": [
        "C = np.corrcoef(data.risk_score,data.target)\n",
        "print(C)"
      ],
      "execution_count": null,
      "outputs": [
        {
          "output_type": "stream",
          "text": [
            "[[1.         0.51796068]\n",
            " [0.51796068 1.        ]]\n"
          ],
          "name": "stdout"
        }
      ]
    },
    {
      "cell_type": "code",
      "metadata": {
        "colab": {
          "base_uri": "https://localhost:8080/",
          "height": 297
        },
        "id": "WTkQHjcZlnGw",
        "outputId": "56034497-fd14-4a5f-f7fd-c8a39ef383b2"
      },
      "source": [
        "sns.countplot(x=data.risk_score, hue=data.target)"
      ],
      "execution_count": null,
      "outputs": [
        {
          "output_type": "execute_result",
          "data": {
            "text/plain": [
              "<matplotlib.axes._subplots.AxesSubplot at 0x7f788837c950>"
            ]
          },
          "metadata": {
            "tags": []
          },
          "execution_count": 73
        },
        {
          "output_type": "display_data",
          "data": {
            "image/png": "[encoded data removed]",
            "text/plain": [
              "<Figure size 432x288 with 1 Axes>"
            ]
          },
          "metadata": {
            "tags": [],
            "needs_background": "light"
          }
        }
      ]
    },
    {
      "cell_type": "markdown",
      "metadata": {
        "id": "TsBZkYNhl2C_"
      },
      "source": [
        "**debt_to_income_ratio**"
      ]
    },
    {
      "cell_type": "code",
      "metadata": {
        "colab": {
          "base_uri": "https://localhost:8080/"
        },
        "id": "jtBnCXpxlrS4",
        "outputId": "195ab5be-29f2-408e-86a4-96f11762ceeb"
      },
      "source": [
        "C = np.corrcoef(data.debt_to_income_ratio,data.target)\n",
        "print(C)"
      ],
      "execution_count": null,
      "outputs": [
        {
          "output_type": "stream",
          "text": [
            "[[ 1.        -0.0209685]\n",
            " [-0.0209685  1.       ]]\n"
          ],
          "name": "stdout"
        }
      ]
    },
    {
      "cell_type": "code",
      "metadata": {
        "colab": {
          "base_uri": "https://localhost:8080/",
          "height": 297
        },
        "id": "kie-rVDfl7MS",
        "outputId": "45d089d0-2d41-42a1-f4f9-32cdcbf318c6"
      },
      "source": [
        "# sns.countplot(x=data.debt_to_income_ratio, hue=data.target)"
      ],
      "execution_count": null,
      "outputs": [
        {
          "output_type": "execute_result",
          "data": {
            "text/plain": [
              "<matplotlib.axes._subplots.AxesSubplot at 0x7f783a64cbd0>"
            ]
          },
          "metadata": {
            "tags": []
          },
          "execution_count": 78
        },
        {
          "output_type": "display_data",
          "data": {
            "image/png": "[encoded data removed]",
            "text/plain": [
              "<Figure size 432x288 with 1 Axes>"
            ]
          },
          "metadata": {
            "tags": [],
            "needs_background": "light"
          }
        }
      ]
    },
    {
      "cell_type": "markdown",
      "metadata": {
        "id": "KL-ULMeqISFw"
      },
      "source": [
        "**employment_length**"
      ]
    },
    {
      "cell_type": "code",
      "metadata": {
        "id": "MUDTlXD5l846",
        "colab": {
          "base_uri": "https://localhost:8080/"
        },
        "outputId": "d7526456-70c5-4988-d793-e4333ec14a10"
      },
      "source": [
        "C = np.corrcoef(data.employment_length,data.target)\n",
        "print(C)"
      ],
      "execution_count": null,
      "outputs": [
        {
          "output_type": "stream",
          "text": [
            "[[1.         0.55513157]\n",
            " [0.55513157 1.        ]]\n"
          ],
          "name": "stdout"
        }
      ]
    },
    {
      "cell_type": "code",
      "metadata": {
        "colab": {
          "base_uri": "https://localhost:8080/",
          "height": 297
        },
        "id": "BgYdmIoyIW3P",
        "outputId": "0268246a-f06f-429d-defb-8015605af6fa"
      },
      "source": [
        "sns.countplot(x=data.employment_length, hue=data.target)"
      ],
      "execution_count": null,
      "outputs": [
        {
          "output_type": "execute_result",
          "data": {
            "text/plain": [
              "<matplotlib.axes._subplots.AxesSubplot at 0x7f78051a1950>"
            ]
          },
          "metadata": {
            "tags": []
          },
          "execution_count": 80
        },
        {
          "output_type": "display_data",
          "data": {
            "image/png": "[encoded data removed]",
            "text/plain": [
              "<Figure size 432x288 with 1 Axes>"
            ]
          },
          "metadata": {
            "tags": [],
            "needs_background": "light"
          }
        }
      ]
    },
    {
      "cell_type": "markdown",
      "metadata": {
        "id": "gc7QS52AIdac"
      },
      "source": [
        "**By above steps we can conclude that our data is not having much noice to reduce so we can move to Step2 Modelling since our data is already numeric and does not need any changes**"
      ]
    },
    {
      "cell_type": "code",
      "metadata": {
        "id": "26VLgHraLNQe"
      },
      "source": [
        ""
      ],
      "execution_count": null,
      "outputs": []
    }
  ]
}