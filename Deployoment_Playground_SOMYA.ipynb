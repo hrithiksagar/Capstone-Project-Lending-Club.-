{
  "nbformat": 4,
  "nbformat_minor": 0,
  "metadata": {
    "colab": {
      "name": "Deployoment-Playground-SOMYA.ipynb",
      "provenance": [],
      "collapsed_sections": []
    },
    "kernelspec": {
      "name": "python3",
      "display_name": "Python 3"
    },
    "language_info": {
      "name": "python"
    },
    "accelerator": "GPU"
  },
  "cells": [
    {
      "cell_type": "markdown",
      "metadata": {
        "id": "J6Eurk4AWSrl"
      },
      "source": [
        "#🏦 Lending Club Loan 💰"
      ]
    },
    {
      "cell_type": "markdown",
      "metadata": {
        "id": "uIpQXGVuWU4K"
      },
      "source": [
        "# Introduction\n",
        "Using historical data on loans from Lendig Club - including information on whether or not the borrower defaulted (charge-off) - the main objective of this notebook will be to predict if a potential borrower is likely to pay back the loan.\n",
        "\n",
        "#Our Goal\n",
        "In this capstone project, You will going to work on LendingClub Dataset obtained from Kaggle and the goal is to try find a better prediction model to prevent investing on '\"bad loans\". To do that, First, going to implement some data engineering and preprocessing on LendingClub dataset to prepare data for analysis and modeling. Second, you need to apply explanatory data analysis (EDA) to investigate the features. At the end, you use preprocessed data on LendingClub loans labeled on whether or not the borrower defaulted (charged-off) to develop a model and predict whether or not a borrower will pay back their loan. This way in the future when we get a new potential customer who assigned with higher interest loan, we can assess whether or not they are likely to pay back the loan.\n",
        "\n",
        "\n",
        "# Model\n",
        "**I have decieded to move with XGBoost trained model for the deployement part**"
      ]
    },
    {
      "cell_type": "markdown",
      "metadata": {
        "id": "Ow3D7o_RWjan"
      },
      "source": [
        "**Importing pckages**"
      ]
    },
    {
      "cell_type": "code",
      "metadata": {
        "id": "kEFL2tFkWLX2"
      },
      "source": [
        "import os\n",
        "import pandas as pd\n",
        "import numpy as np\n",
        "import matplotlib.pyplot as plt\n",
        "import seaborn as sns\n",
        "from sklearn.model_selection import train_test_split, GridSearchCV\n",
        "from sklearn.metrics import accuracy_score, confusion_matrix, classification_report\n",
        "from sklearn.metrics import roc_auc_score, roc_curve, auc\n",
        "from sklearn.preprocessing import MinMaxScaler"
      ],
      "execution_count": 11,
      "outputs": []
    },
    {
      "cell_type": "markdown",
      "metadata": {
        "id": "18hpTisiWoPI"
      },
      "source": [
        "**Loading datasets and spliting it into traning and vaidation sets**"
      ]
    },
    {
      "cell_type": "code",
      "metadata": {
        "colab": {
          "base_uri": "https://localhost:8080/"
        },
        "id": "rOUeq068Wnub",
        "outputId": "08d83d86-dbfb-4a5c-885b-fed8c47befa2"
      },
      "source": [
        "data = pd.read_csv('/content/drive/MyDrive/LendingClub/combinedByYasin.csv')\n",
        "print(data.shape)\n",
        "\n",
        "data.columns = data.columns.str.strip().str.lower().str.replace(' ', '_').str.replace('(', '').str.replace(')', '').str.replace('-','_')\n",
        "del data['unnamed:_0']\n",
        "print(data.columns)\n",
        "\n",
        "#Lets split the data in traning and validation set\n",
        "df = data.copy()\n",
        "X = df.loc[:, df.columns != 'target'].values\n",
        "y = df.target.values\n",
        "X_train, X_test, y_train, y_test = train_test_split(X, y, test_size=0.2, random_state=42)"
      ],
      "execution_count": 3,
      "outputs": [
        {
          "output_type": "stream",
          "text": [
            "(2072806, 6)\n",
            "Index(['amount_requested', 'risk_score', 'debt_to_income_ratio',\n",
            "       'employment_length', 'target'],\n",
            "      dtype='object')\n"
          ],
          "name": "stdout"
        }
      ]
    },
    {
      "cell_type": "markdown",
      "metadata": {
        "id": "HbgELkTBXN_w"
      },
      "source": [
        "# Traning Model / XGBoost\n",
        "**After multiple efforts i recieved below mentioned values to be perfect to serve my purpose**"
      ]
    },
    {
      "cell_type": "code",
      "metadata": {
        "id": "S79ss4PeWajv"
      },
      "source": [
        "# from xgboost import XGBClassifier\n",
        "\n",
        "# n_estimators = [50, 100, 150, 200]\n",
        "# learning_rate = [0.05, 0.01, 0.5, 0.1, 1]\n",
        "# tree_method = ['gpu_hist']\n",
        "\n",
        "# params_grid = {\n",
        "#     'n_estimators': n_estimators,\n",
        "#     'learning_rate': learning_rate,\n",
        "# }\n",
        "\n",
        "# xgb_clf = XGBClassifier()\n",
        "# xgb_cv = GridSearchCV(xgb_clf, params_grid, cv=3, scoring='roc_auc', n_jobs=-1, verbose=1)\n",
        "# xgb_cv.fit(X_train, y_train)\n",
        "# best_params = xgb_cv.best_params_\n",
        "# best_params['tree_method'] = 'gpu_hist'\n",
        "# print(f\"Best Parameters: {best_params}\")"
      ],
      "execution_count": 52,
      "outputs": []
    },
    {
      "cell_type": "markdown",
      "metadata": {
        "id": "ndoVOQKJdn_W"
      },
      "source": [
        "**Now we know best weights value for our model lets make another cell to train it as the above mentioned step is time consuming**"
      ]
    },
    {
      "cell_type": "code",
      "metadata": {
        "id": "TMtVbnWZeg2W"
      },
      "source": [
        "# scores = []"
      ],
      "execution_count": 26,
      "outputs": []
    },
    {
      "cell_type": "code",
      "metadata": {
        "colab": {
          "base_uri": "https://localhost:8080/"
        },
        "id": "hNrq4lPXdnun",
        "outputId": "336c651e-51c1-4910-ee0c-4d67dfa0f9fb"
      },
      "source": [
        "best_params = {'n_estimators': 5, 'tree_method': 'gpu_hist', 'learning_rate':0.01}\n",
        "xgb_clf = XGBClassifier(**best_params)\n",
        "xgb_clf.fit(X_train, y_train)\n",
        "\n",
        "y_train_pred = xgb_clf.predict(X_train)\n",
        "y_test_pred = xgb_clf.predict(X_test)\n",
        "\n",
        "# make predictions for test data\n",
        "y_pred = xgb_clf.predict(X_test)\n",
        "predictions = [round(value) for value in y_pred]\n",
        "\n",
        "# evaluate predictions\n",
        "accuracy = accuracy_score(y_test, predictions)\n",
        "scores.append([best_params, accuracy])\n",
        "print(\"Accuracy: %.2f%%\" % (accuracy * 100.0))"
      ],
      "execution_count": 65,
      "outputs": [
        {
          "output_type": "stream",
          "text": [
            "Accuracy: 88.65%\n"
          ],
          "name": "stdout"
        }
      ]
    },
    {
      "cell_type": "markdown",
      "metadata": {
        "id": "nJ1a9UF4es5b"
      },
      "source": [
        "**Different parameters scores**"
      ]
    },
    {
      "cell_type": "code",
      "metadata": {
        "colab": {
          "base_uri": "https://localhost:8080/"
        },
        "id": "Erznqhv1esQW",
        "outputId": "2600961a-ff48-4832-fec3-a71a0833c3fc"
      },
      "source": [
        "# scores = sorted(scores,key=lambda x:x[1])\n",
        "# print(scores[0])\n",
        "# print()\n",
        "# print(*scores,sep='\\n')"
      ],
      "execution_count": 69,
      "outputs": [
        {
          "output_type": "stream",
          "text": [
            "[{'n_estimators': 5, 'tree_method': 'gpu_hist', 'learning_rate': 0.01}, 0.8864536547006238]\n",
            "\n",
            "[{'n_estimators': 5, 'tree_method': 'gpu_hist', 'learning_rate': 0.01}, 0.8864536547006238]\n",
            "[{'n_estimators': 1, 'tree_method': 'gpu_hist', 'learning_rate': 0.01}, 0.8864536547006238]\n",
            "[{'n_estimators': 1, 'tree_method': 'gpu_hist', 'learning_rate': 1}, 0.8864536547006238]\n",
            "[{'n_estimators': 5, 'tree_method': 'gpu_hist', 'learning_rate': 0.01}, 0.8864536547006238]\n",
            "[{'n_estimators': 5, 'tree_method': 'gpu_hist', 'learning_rate': 0.005}, 0.8864536547006238]\n",
            "[{'n_estimators': 5, 'tree_method': 'gpu_hist', 'learning_rate': 0.01}, 0.8864536547006238]\n",
            "[{'n_estimators': 200, 'tree_method': 'gpu_hist', 'learning_rate': 0.01}, 0.8864922496514394]\n",
            "[{'n_estimators': 50, 'tree_method': 'gpu_hist', 'learning_rate': 0.01}, 0.8864922496514394]\n",
            "[{'n_estimators': 50, 'tree_method': 'gpu_hist', 'learning_rate': 0.05}, 0.8865911492129043]\n",
            "[{'n_estimators': 5, 'tree_method': 'gpu_hist', 'learning_rate': 1}, 0.8878478972988358]\n",
            "[{'n_estimators': 100, 'tree_method': 'gpu_hist', 'learning_rate': 0.05}, 0.8878599582209658]\n",
            "[{'n_estimators': 5, 'tree_method': 'gpu_hist', 'learning_rate': 0.05}, 0.8878599582209658]\n",
            "[{'n_estimators': 5, 'tree_method': 'gpu_hist', 'learning_rate': 0.9}, 0.8878696069586697]\n",
            "[{'n_estimators': 200, 'tree_method': 'gpu_hist', 'learning_rate': 1}, 0.887925087200467]\n",
            "[{'n_estimators': 150, 'tree_method': 'gpu_hist', 'learning_rate': 0.05}, 0.8879395603070228]\n",
            "[{'n_estimators': 50, 'tree_method': 'gpu_hist', 'learning_rate': 1}, 0.8879443846758748]\n",
            "[{'n_estimators': 250, 'tree_method': 'gpu_hist', 'learning_rate': 0.05}, 0.8879636821512825]\n",
            "[{'n_estimators': 200, 'tree_method': 'gpu_hist', 'learning_rate': 0.05}, 0.8879660943357085]\n",
            "[{'n_estimators': 200, 'tree_method': 'gpu_hist', 'learning_rate': 0.1}, 0.8879853918111164]\n",
            "[{'n_estimators': 200, 'tree_method': 'gpu_hist', 'learning_rate': 0.5}, 0.8879853918111164]\n"
          ],
          "name": "stdout"
        }
      ]
    },
    {
      "cell_type": "markdown",
      "metadata": {
        "id": "_Rx-88WUhzaT"
      },
      "source": [
        "**Values tried manully**\n",
        "* [{'n_estimators': 5, 'tree_method': 'gpu_hist', 'learning_rate': 0.01}, 0.8864536547006238]\n",
        "* [{'n_estimators': 1, 'tree_method': 'gpu_hist', 'learning_rate': 0.01}, 0.8864536547006238]\n",
        "* [{'n_estimators': 1, 'tree_method': 'gpu_hist', 'learning_rate': 1}, 0.8864536547006238]\n",
        "* [{'n_estimators': 5, 'tree_method': 'gpu_hist', 'learning_rate': 0.01}, 0.8864536547006238]\n",
        "* [{'n_estimators': 5, 'tree_method': 'gpu_hist', 'learning_rate': 0.005}, 0.8864536547006238]\n",
        "* [{'n_estimators': 200, 'tree_method': 'gpu_hist', 'learning_rate': 0.01}, 0.8864922496514394]\n",
        "* [{'n_estimators': 50, 'tree_method': 'gpu_hist', 'learning_rate': 0.01}, 0.8864922496514394]\n",
        "* [{'n_estimators': 50, 'tree_method': 'gpu_hist', 'learning_rate': 0.05}, 0.8865911492129043]\n",
        "* [{'n_estimators': 5, 'tree_method': 'gpu_hist', 'learning_rate': 1}, 0.8878478972988358]\n",
        "* [{'n_estimators': 100, 'tree_method': 'gpu_hist', 'learning_rate': 0.05}, 0.8878599582209658]\n",
        "* [{'n_estimators': 5, 'tree_method': 'gpu_hist', 'learning_rate': 0.05}, 0.8878599582209658]\n",
        "* [{'n_estimators': 5, 'tree_method': 'gpu_hist', 'learning_rate': 0.9}, 0.8878696069586697]\n",
        "* [{'n_estimators': 200, 'tree_method': 'gpu_hist', 'learning_rate': 1}, 0.887925087200467]\n",
        "* [{'n_estimators': 150, 'tree_method': 'gpu_hist', 'learning_rate': 0.05}, 0.8879395603070228]\n",
        "* [{'n_estimators': 50, 'tree_method': 'gpu_hist', 'learning_rate': 1}, 0.8879443846758748]\n",
        "* [{'n_estimators': 250, 'tree_method': 'gpu_hist', 'learning_rate': 0.05}, 0.8879636821512825]\n",
        "* [{'n_estimators': 200, 'tree_method': 'gpu_hist', 'learning_rate': 0.05}, 0.8879660943357085]\n",
        "* [{'n_estimators': 200, 'tree_method': 'gpu_hist', 'learning_rate': 0.1}, 0.8879853918111164]\n",
        "* [{'n_estimators': 200, 'tree_method': 'gpu_hist', 'learning_rate': 0.5}, 0.8879853918111164]\n",
        "\n"
      ]
    },
    {
      "cell_type": "markdown",
      "metadata": {
        "id": "90gOAvIBZBV-"
      },
      "source": [
        "**Lets visualize the scores**"
      ]
    },
    {
      "cell_type": "code",
      "metadata": {
        "colab": {
          "base_uri": "https://localhost:8080/",
          "height": 279
        },
        "id": "dwhS6BTOY-nl",
        "outputId": "eb06553e-75ce-4925-ac9e-23e4201e8db1"
      },
      "source": [
        "from sklearn.metrics import plot_confusion_matrix, plot_roc_curve\n",
        "\n",
        "disp = plot_roc_curve(xgb_clf, X_test, y_test)"
      ],
      "execution_count": 70,
      "outputs": [
        {
          "output_type": "display_data",
          "data": {
            "image/png": "[encoded data removed]",
            "text/plain": [
              "<Figure size 432x288 with 1 Axes>"
            ]
          },
          "metadata": {
            "tags": [],
            "needs_background": "light"
          }
        }
      ]
    },
    {
      "cell_type": "markdown",
      "metadata": {
        "id": "ovqGw7TmZLbe"
      },
      "source": [
        "**Classification Report**"
      ]
    },
    {
      "cell_type": "code",
      "metadata": {
        "colab": {
          "base_uri": "https://localhost:8080/"
        },
        "id": "WRVrMrgbZJFW",
        "outputId": "3034d2c3-011d-44ba-b239-eeda6790017e"
      },
      "source": [
        "predictions = (xgb_clf.predict(X_test) > 0.5).astype(\"int32\")\n",
        "\n",
        "print(classification_report(y_test, predictions))"
      ],
      "execution_count": 71,
      "outputs": [
        {
          "output_type": "stream",
          "text": [
            "              precision    recall  f1-score   support\n",
            "\n",
            "           0       1.00      0.77      0.87    207499\n",
            "           1       0.81      1.00      0.90    207063\n",
            "\n",
            "    accuracy                           0.89    414562\n",
            "   macro avg       0.91      0.89      0.88    414562\n",
            "weighted avg       0.91      0.89      0.88    414562\n",
            "\n"
          ],
          "name": "stdout"
        }
      ]
    },
    {
      "cell_type": "markdown",
      "metadata": {
        "id": "iWEGV0StYuLD"
      },
      "source": [
        "**Saving our model to svae time of traning it again and again**"
      ]
    },
    {
      "cell_type": "code",
      "metadata": {
        "id": "gLDsC2bLYK9O"
      },
      "source": [
        "xgb_clf.save_model('/content/drive/MyDrive/LendingClub/XGBOOST/XGB.model')"
      ],
      "execution_count": 72,
      "outputs": []
    },
    {
      "cell_type": "code",
      "metadata": {
        "id": "gCrLEOQpZTn0"
      },
      "source": [
        "#Loading the model\n",
        "import xgboost as xgb\n",
        "loaded_xgb = xgb.Booster({'nthread': 4})  # init model\n",
        "loaded_xgb.load_model('/content/drive/MyDrive/LendingClub/XGBOOST/XGB.model')"
      ],
      "execution_count": 73,
      "outputs": []
    },
    {
      "cell_type": "markdown",
      "metadata": {
        "id": "g0yQVpwJlss3"
      },
      "source": [
        "**Now we are done with this traning part lets plan how to give input to our model and make some new predictions**"
      ]
    },
    {
      "cell_type": "markdown",
      "metadata": {
        "id": "AwgrqXyXloMf"
      },
      "source": [
        "# Making new predictions"
      ]
    },
    {
      "cell_type": "code",
      "metadata": {
        "id": "8aegXtpPl8Fj"
      },
      "source": [
        "new_predictions = []"
      ],
      "execution_count": 114,
      "outputs": []
    },
    {
      "cell_type": "code",
      "metadata": {
        "id": "T573VcXGjEjD"
      },
      "source": [
        "var = [200000,692,45,0]\n",
        "new_predictions.append({'Input': var,\n",
        "                        'Prediction' : xgb_clf.predict(var)[0]})"
      ],
      "execution_count": 117,
      "outputs": []
    },
    {
      "cell_type": "code",
      "metadata": {
        "id": "bYnnJSMwmYFA"
      },
      "source": [
        "var = [6000,604,14,5]\n",
        "new_predictions.append({'Input': var,\n",
        "                        'Prediction' : xgb_clf.predict(var)[0]})"
      ],
      "execution_count": 120,
      "outputs": []
    },
    {
      "cell_type": "code",
      "metadata": {
        "id": "ctTefsKMmYBE"
      },
      "source": [
        "var = [3600,692,5,10]\n",
        "new_predictions.append({'Input': var,\n",
        "                        'Prediction' : xgb_clf.predict(var)[0]})"
      ],
      "execution_count": 122,
      "outputs": []
    },
    {
      "cell_type": "code",
      "metadata": {
        "id": "VY67XuCCmX8_"
      },
      "source": [
        "var = [10000,657,25.5,3]\n",
        "new_predictions.append({'Input': var,\n",
        "                        'Prediction' : xgb_clf.predict(var)[0]})"
      ],
      "execution_count": 123,
      "outputs": []
    },
    {
      "cell_type": "code",
      "metadata": {
        "id": "ayZdN2SwmX26"
      },
      "source": [
        "var = [7200,672,14.5,10]\n",
        "new_predictions.append({'Input': var,\n",
        "                        'Prediction' : xgb_clf.predict(var)[0]})"
      ],
      "execution_count": 127,
      "outputs": []
    },
    {
      "cell_type": "code",
      "metadata": {
        "id": "D2IkIfZBmXz9"
      },
      "source": [
        "var = [8006,543,12.6,12]\n",
        "new_predictions.append({'Input': var,\n",
        "                        'Prediction' : xgb_clf.predict(var)[0]})"
      ],
      "execution_count": 128,
      "outputs": []
    },
    {
      "cell_type": "code",
      "metadata": {
        "id": "l-cYPc75mXvf"
      },
      "source": [
        "var = [25121,622,12.4,6]\n",
        "new_predictions.append({'Input': var,\n",
        "                        'Prediction' : xgb_clf.predict(var)[0]})"
      ],
      "execution_count": 130,
      "outputs": []
    },
    {
      "cell_type": "code",
      "metadata": {
        "colab": {
          "base_uri": "https://localhost:8080/",
          "height": 359
        },
        "id": "WSrUOFsJjc6C",
        "outputId": "11b2c2d2-cef2-43ff-becb-2299abd11ccc"
      },
      "source": [
        "data[30:40]"
      ],
      "execution_count": 126,
      "outputs": [
        {
          "output_type": "execute_result",
          "data": {
            "text/html": [
              "<div>\n",
              "<style scoped>\n",
              "    .dataframe tbody tr th:only-of-type {\n",
              "        vertical-align: middle;\n",
              "    }\n",
              "\n",
              "    .dataframe tbody tr th {\n",
              "        vertical-align: top;\n",
              "    }\n",
              "\n",
              "    .dataframe thead th {\n",
              "        text-align: right;\n",
              "    }\n",
              "</style>\n",
              "<table border=\"1\" class=\"dataframe\">\n",
              "  <thead>\n",
              "    <tr style=\"text-align: right;\">\n",
              "      <th></th>\n",
              "      <th>amount_requested</th>\n",
              "      <th>risk_score</th>\n",
              "      <th>debt_to_income_ratio</th>\n",
              "      <th>employment_length</th>\n",
              "      <th>target</th>\n",
              "    </tr>\n",
              "  </thead>\n",
              "  <tbody>\n",
              "    <tr>\n",
              "      <th>30</th>\n",
              "      <td>7000.0</td>\n",
              "      <td>732.0</td>\n",
              "      <td>13.06</td>\n",
              "      <td>10</td>\n",
              "      <td>1</td>\n",
              "    </tr>\n",
              "    <tr>\n",
              "      <th>31</th>\n",
              "      <td>21000.0</td>\n",
              "      <td>682.0</td>\n",
              "      <td>14.47</td>\n",
              "      <td>0</td>\n",
              "      <td>1</td>\n",
              "    </tr>\n",
              "    <tr>\n",
              "      <th>32</th>\n",
              "      <td>27500.0</td>\n",
              "      <td>702.0</td>\n",
              "      <td>6.79</td>\n",
              "      <td>10</td>\n",
              "      <td>1</td>\n",
              "    </tr>\n",
              "    <tr>\n",
              "      <th>33</th>\n",
              "      <td>7200.0</td>\n",
              "      <td>727.0</td>\n",
              "      <td>8.47</td>\n",
              "      <td>10</td>\n",
              "      <td>1</td>\n",
              "    </tr>\n",
              "    <tr>\n",
              "      <th>34</th>\n",
              "      <td>20000.0</td>\n",
              "      <td>692.0</td>\n",
              "      <td>12.45</td>\n",
              "      <td>6</td>\n",
              "      <td>1</td>\n",
              "    </tr>\n",
              "    <tr>\n",
              "      <th>35</th>\n",
              "      <td>20000.0</td>\n",
              "      <td>682.0</td>\n",
              "      <td>22.21</td>\n",
              "      <td>5</td>\n",
              "      <td>1</td>\n",
              "    </tr>\n",
              "    <tr>\n",
              "      <th>36</th>\n",
              "      <td>10000.0</td>\n",
              "      <td>687.0</td>\n",
              "      <td>35.70</td>\n",
              "      <td>2</td>\n",
              "      <td>0</td>\n",
              "    </tr>\n",
              "    <tr>\n",
              "      <th>37</th>\n",
              "      <td>20000.0</td>\n",
              "      <td>727.0</td>\n",
              "      <td>23.45</td>\n",
              "      <td>5</td>\n",
              "      <td>1</td>\n",
              "    </tr>\n",
              "    <tr>\n",
              "      <th>38</th>\n",
              "      <td>8650.0</td>\n",
              "      <td>752.0</td>\n",
              "      <td>7.28</td>\n",
              "      <td>0</td>\n",
              "      <td>1</td>\n",
              "    </tr>\n",
              "    <tr>\n",
              "      <th>39</th>\n",
              "      <td>21000.0</td>\n",
              "      <td>672.0</td>\n",
              "      <td>12.14</td>\n",
              "      <td>2</td>\n",
              "      <td>1</td>\n",
              "    </tr>\n",
              "  </tbody>\n",
              "</table>\n",
              "</div>"
            ],
            "text/plain": [
              "    amount_requested  risk_score  ...  employment_length  target\n",
              "30            7000.0       732.0  ...                 10       1\n",
              "31           21000.0       682.0  ...                  0       1\n",
              "32           27500.0       702.0  ...                 10       1\n",
              "33            7200.0       727.0  ...                 10       1\n",
              "34           20000.0       692.0  ...                  6       1\n",
              "35           20000.0       682.0  ...                  5       1\n",
              "36           10000.0       687.0  ...                  2       0\n",
              "37           20000.0       727.0  ...                  5       1\n",
              "38            8650.0       752.0  ...                  0       1\n",
              "39           21000.0       672.0  ...                  2       1\n",
              "\n",
              "[10 rows x 5 columns]"
            ]
          },
          "metadata": {
            "tags": []
          },
          "execution_count": 126
        }
      ]
    },
    {
      "cell_type": "code",
      "metadata": {
        "id": "u-yFd0ahmXrG"
      },
      "source": [
        "var = [21000,672,12.5,2]\n",
        "new_predictions.append({'Input': var,\n",
        "                        'Prediction' : xgb_clf.predict(var)[0]})"
      ],
      "execution_count": 132,
      "outputs": []
    },
    {
      "cell_type": "code",
      "metadata": {
        "id": "B3Cb8TtfmXnQ"
      },
      "source": [
        "var = [55900,251,30.33,21]\n",
        "new_predictions.append({'Input': var,\n",
        "                        'Prediction' : xgb_clf.predict(var)[0]})"
      ],
      "execution_count": 134,
      "outputs": []
    },
    {
      "cell_type": "code",
      "metadata": {
        "id": "2bfTtlxCmXfE"
      },
      "source": [
        "var = [60000,500,50,9]\n",
        "new_predictions.append({'Input': var,\n",
        "                        'Prediction' : xgb_clf.predict(var)[0]})"
      ],
      "execution_count": 136,
      "outputs": []
    },
    {
      "cell_type": "markdown",
      "metadata": {
        "id": "OuzYFIgDni05"
      },
      "source": [
        "**That's Enough to understand the pattern**"
      ]
    },
    {
      "cell_type": "markdown",
      "metadata": {
        "id": "iMHr94QRnqTz"
      },
      "source": [
        "**Lets print the predictions we just made**"
      ]
    },
    {
      "cell_type": "code",
      "metadata": {
        "colab": {
          "base_uri": "https://localhost:8080/"
        },
        "id": "Kab9qQk2mYJI",
        "outputId": "9cbe80ef-f53e-4a1e-bdad-c09c7593c727"
      },
      "source": [
        "print(*new_predictions,sep='\\n')"
      ],
      "execution_count": 137,
      "outputs": [
        {
          "output_type": "stream",
          "text": [
            "{'Input': [200000, 692, 45, 0], 'Prediction': 0}\n",
            "{'Input': [6000, 604, 14, 5], 'Prediction': 0}\n",
            "{'Input': [3600, 692, 5, 10], 'Prediction': 1}\n",
            "{'Input': [10000, 657, 25.5, 3], 'Prediction': 0}\n",
            "{'Input': [7200, 672, 14.5, 10], 'Prediction': 1}\n",
            "{'Input': [8006, 543, 12.6, 12], 'Prediction': 0}\n",
            "{'Input': [25121, 622, 12.4, 6], 'Prediction': 0}\n",
            "{'Input': [21000, 672, 12.5, 2], 'Prediction': 1}\n",
            "{'Input': [55900, 251, 30.33, 21], 'Prediction': 0}\n",
            "{'Input': [60000, 500, 50, 9], 'Prediction': 0}\n"
          ],
          "name": "stdout"
        }
      ]
    },
    {
      "cell_type": "markdown",
      "metadata": {
        "id": "1Y0tcmQmo36Y"
      },
      "source": [
        "## **So now we understood the pattern of how to give input and take output we will move to flask for further developement**"
      ]
    }
  ]
}